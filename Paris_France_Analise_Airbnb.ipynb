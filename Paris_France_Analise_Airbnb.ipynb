{
  "nbformat": 4,
  "nbformat_minor": 0,
  "metadata": {
    "colab": {
      "name": "Paris-France_Analise_Airbnb.ipynb",
      "provenance": [],
      "collapsed_sections": [],
      "authorship_tag": "ABX9TyOzhSE3i8g0+CqHgr7O95eA",
      "include_colab_link": true
    },
    "kernelspec": {
      "name": "python3",
      "display_name": "Python 3"
    },
    "language_info": {
      "name": "python"
    }
  },
  "cells": [
    {
      "cell_type": "markdown",
      "metadata": {
        "id": "view-in-github",
        "colab_type": "text"
      },
      "source": [
        "<a href=\"https://colab.research.google.com/github/mths-miranda/data_science/blob/master/Paris_France_Analise_Airbnb.ipynb\" target=\"_parent\"><img src=\"https://colab.research.google.com/assets/colab-badge.svg\" alt=\"Open In Colab\"/></a>"
      ]
    },
    {
      "cell_type": "markdown",
      "source": [
        "<img alt=\"Colaboratory logo\" width=\"15%\" src=\"https://raw.githubusercontent.com/carlosfab/escola-data-science/master/img/novo_logo_bg_claro.png\">\n",
        "\n",
        "**Data Science na Prática 3.0**\n",
        "\n",
        "*by [sigmoidal.ai](https://sigmoidal.ai)*\n",
        "\n",
        "---\n",
        "#Analise exploratória de dados do Airbnb - Paris, França\n",
        "\n",
        "\n",
        "\n",
        "\n",
        "<center><img alt=\"Louvre Museum\" width=\"25%\" src=\"https://news.airbnb.com/wp-content/uploads/sites/4/2020/04/Airbnb_Lockup_Over_Gradient.png\"></center>\n",
        "\n",
        "O [Airbnb](https://www.airbnb.com.br/) nasceu em 2007. Hoje, a plataforma conta com 4 milhões de anfitriões em quase todos os países do mundo. É considerado como sendo a **maior empresa hoteleira da atualidade**. Ah, o detalhe é que ele **não possui nenhum hotel**!\n",
        "\n",
        "A plataforma é como uma rede social, onde você cria um perfil para ter acesso às opções de hospedagem disponibilizadas pelos anfitriões.\n",
        "\n",
        "\n",
        "E os números da empresa impressionam. Até 2021 foram registrados 1 bilhão de chegadas de hópedes e mais de US$110 bilhões de ganhos para os anfritiões, isso tudo atuando nos mais de 220 países.\n",
        "\n",
        "Fonte: https://news.airbnb.com/br/about-us/\n",
        "\n",
        "---"
      ],
      "metadata": {
        "id": "2pLZnqIaE0mO"
      }
    },
    {
      "cell_type": "markdown",
      "source": [
        "##Paris, França\n",
        "\n",
        "Nesse projeto irei analisar os dados registrados na cidade de Paris, na França, que foram disponibilizados pela plataforma [Inside Airbnb](http://insideairbnb.com/get-the-data.html) e ver quais insights podem ser extraídos a partir dos dados brutos.\n",
        "\n",
        "\n",
        "\n",
        "<img alt=\"Louvre Museum\" width=\"75%\" src=\"https://raw.githubusercontent.com/mths-miranda/data_science/master/img/paris_france_j-venerosy-unsplash.jpg\">\n",
        "\n",
        "Foto: Louvre Museum. Click by [J. Venerosy](https://unsplash.com/@jvenerosy)\n",
        "\n",
        "\n",
        "Paris, a capital da França, é uma importante cidade europeia e um centro mundial de arte, moda, gastronomia e cultura. Sua paisagem urbana do século XIX é cortada por avenidas largas e pelo rio Sena. A cidade é conhecida por monumentos como a Torre Eiffel e a Catedral de Notre-Dame, uma construção gótica do século XII, que sofreu um grave incêndio em Abril de 2019.\n",
        "\n",
        "Lá está instalado o Museu do Louvre, o maior museu de arte do mundo. Um marco central de Paris, que está localizado na margem direita do rio Sena, no 1º distrito da cidade.\n"
      ],
      "metadata": {
        "id": "LiOyDVAZE78M"
      }
    },
    {
      "cell_type": "markdown",
      "source": [
        "##Obtenção dos dados\n",
        "\n",
        "O portal Inside Airbnb disponibiliza os dados frequentemente atualizados para a discusão pública. É possível importar os dados brutos, para o notebook, diretamente através do site, mas para esse projeto escolhi coletar os dados e armazená-los em um repositório do GitHub, evitando que uma futura atualização fuja do escopo da análise que estou fazendo.\n",
        "\n",
        "*Atualização dos dados: 08 de Janeiro de 2022*"
      ],
      "metadata": {
        "id": "bNIGTxl1j-Re"
      }
    },
    {
      "cell_type": "code",
      "execution_count": 45,
      "metadata": {
        "id": "6DqyBbgSExVf"
      },
      "outputs": [],
      "source": [
        "#importando os pacotes necessários\n",
        "import pandas as pd\n",
        "import matplotlib.pyplot as plt\n",
        "import seaborn as sns\n",
        "import numpy as np\n",
        "import folium\n",
        "from folium.plugins import MarkerCluster"
      ]
    },
    {
      "cell_type": "code",
      "source": [
        "#importando os dados para um DataFrame\n",
        "df = pd.read_csv(\"https://raw.githubusercontent.com/mths-miranda/data_science/master/datasets/paris_france_listings_2022-01-08_.csv\",\n",
        "                 sep=\",\")"
      ],
      "metadata": {
        "id": "AJ1R6sCekFNu"
      },
      "execution_count": 46,
      "outputs": []
    },
    {
      "cell_type": "markdown",
      "source": [
        "##Analisando os dados\n",
        "\n",
        "Antes de iniciar qualquer tratamento, é importante conhecer o *dataset*. Vou fazer isso observando as variáveis disponibilizadas e notando as 5 primeiras entradas.\n",
        "\n",
        "**Dicionário de variáveis**\n",
        " * `id`: (integer) identificador exclusivo do anúncio\n",
        " * `name`: (text) descrição imóvel\n",
        " * `host_id`: (integer) identificador exclusivo do anfitrião/ usuário\n",
        " * `host_name`: (text) nome do anfitrião\n",
        " * `neighbourhood_group`: (text) grupo geocodificado ao qual o bairro faz parte\n",
        " * `neighbourhood`: (text) bairro onde está localizado o item\n",
        " * `latitude`: (numeric) coordenada da localização (World Geodetic System - WGS84)\n",
        " * `longitude`:  (numeric) coordenada da localização (World Geodetic System - WGS84)\n",
        " * `room_type`: (text) descrição do tipo de imóvel\n",
        " * `price`: (currency) preço diário em moeda local\n",
        " * `minimum_nights`: (integer) número mínimo de pernoites para o anúncio\n",
        " * `number_of_reviews`: (integer) quantidade de avaliações que o anúncio possui desde sua publicação\n",
        " * `last_review`: (date) data da última/mais recente revisão\n",
        " * `reviews_per_month`: (numeric) número de avaliações durante o período que está ativo (lifetime)\n",
        " * `calculated_host_listings_count`: (integer) número de anúncios que o anfitrião tem, no *dataset* atual, nesta cidade\n",
        " * `availability_365`: (integer) disponibilidade em dias no futuro\n",
        " * `number_of_reviews_ltm`: (integer) número de avaliações nos últimos 12 meses\n",
        " * `license`: (text) número da licença ou registro"
      ],
      "metadata": {
        "id": "0U6EYxw4keQq"
      }
    },
    {
      "cell_type": "code",
      "source": [
        "#verificar 5 primeiras entradas do DataFrame\n",
        "df.head()"
      ],
      "metadata": {
        "colab": {
          "base_uri": "https://localhost:8080/",
          "height": 461
        },
        "id": "WFofXt_LkTC1",
        "outputId": "503f5a71-8843-4325-9076-40738cc4db02"
      },
      "execution_count": 47,
      "outputs": [
        {
          "output_type": "execute_result",
          "data": {
            "text/html": [
              "\n",
              "  <div id=\"df-426690a5-0d90-4d3c-a68b-166c7994ad72\">\n",
              "    <div class=\"colab-df-container\">\n",
              "      <div>\n",
              "<style scoped>\n",
              "    .dataframe tbody tr th:only-of-type {\n",
              "        vertical-align: middle;\n",
              "    }\n",
              "\n",
              "    .dataframe tbody tr th {\n",
              "        vertical-align: top;\n",
              "    }\n",
              "\n",
              "    .dataframe thead th {\n",
              "        text-align: right;\n",
              "    }\n",
              "</style>\n",
              "<table border=\"1\" class=\"dataframe\">\n",
              "  <thead>\n",
              "    <tr style=\"text-align: right;\">\n",
              "      <th></th>\n",
              "      <th>id</th>\n",
              "      <th>name</th>\n",
              "      <th>host_id</th>\n",
              "      <th>host_name</th>\n",
              "      <th>neighbourhood_group</th>\n",
              "      <th>neighbourhood</th>\n",
              "      <th>latitude</th>\n",
              "      <th>longitude</th>\n",
              "      <th>room_type</th>\n",
              "      <th>price</th>\n",
              "      <th>minimum_nights</th>\n",
              "      <th>number_of_reviews</th>\n",
              "      <th>last_review</th>\n",
              "      <th>reviews_per_month</th>\n",
              "      <th>calculated_host_listings_count</th>\n",
              "      <th>availability_365</th>\n",
              "      <th>number_of_reviews_ltm</th>\n",
              "      <th>license</th>\n",
              "    </tr>\n",
              "  </thead>\n",
              "  <tbody>\n",
              "    <tr>\n",
              "      <th>0</th>\n",
              "      <td>5396</td>\n",
              "      <td>Explore the heart of old Paris</td>\n",
              "      <td>7903</td>\n",
              "      <td>Borzou</td>\n",
              "      <td>NaN</td>\n",
              "      <td>Hôtel-de-Ville</td>\n",
              "      <td>48.85207</td>\n",
              "      <td>2.35871</td>\n",
              "      <td>Entire home/apt</td>\n",
              "      <td>100</td>\n",
              "      <td>2</td>\n",
              "      <td>263</td>\n",
              "      <td>2020-08-08</td>\n",
              "      <td>2.68</td>\n",
              "      <td>1</td>\n",
              "      <td>55</td>\n",
              "      <td>35</td>\n",
              "      <td>7510402838018</td>\n",
              "    </tr>\n",
              "    <tr>\n",
              "      <th>1</th>\n",
              "      <td>7397</td>\n",
              "      <td>MARAIS - 2ROOMS APT - 2/4 PEOPLE</td>\n",
              "      <td>2626</td>\n",
              "      <td>Franck</td>\n",
              "      <td>NaN</td>\n",
              "      <td>Hôtel-de-Ville</td>\n",
              "      <td>48.85909</td>\n",
              "      <td>2.35315</td>\n",
              "      <td>Entire home/apt</td>\n",
              "      <td>105</td>\n",
              "      <td>10</td>\n",
              "      <td>282</td>\n",
              "      <td>2021-09-29</td>\n",
              "      <td>2.28</td>\n",
              "      <td>1</td>\n",
              "      <td>233</td>\n",
              "      <td>13</td>\n",
              "      <td>7510400829623</td>\n",
              "    </tr>\n",
              "    <tr>\n",
              "      <th>2</th>\n",
              "      <td>7964</td>\n",
              "      <td>Large &amp; sunny flat with balcony !</td>\n",
              "      <td>22155</td>\n",
              "      <td>Anaïs</td>\n",
              "      <td>NaN</td>\n",
              "      <td>Opéra</td>\n",
              "      <td>48.87417</td>\n",
              "      <td>2.34245</td>\n",
              "      <td>Entire home/apt</td>\n",
              "      <td>130</td>\n",
              "      <td>6</td>\n",
              "      <td>6</td>\n",
              "      <td>2015-09-14</td>\n",
              "      <td>0.07</td>\n",
              "      <td>1</td>\n",
              "      <td>293</td>\n",
              "      <td>0</td>\n",
              "      <td>7510903576564</td>\n",
              "    </tr>\n",
              "    <tr>\n",
              "      <th>3</th>\n",
              "      <td>9359</td>\n",
              "      <td>Cozy, Central Paris: WALK or VELIB EVERYWHERE !</td>\n",
              "      <td>28422</td>\n",
              "      <td>Bernadette</td>\n",
              "      <td>NaN</td>\n",
              "      <td>Louvre</td>\n",
              "      <td>48.85899</td>\n",
              "      <td>2.34735</td>\n",
              "      <td>Entire home/apt</td>\n",
              "      <td>75</td>\n",
              "      <td>180</td>\n",
              "      <td>0</td>\n",
              "      <td>NaN</td>\n",
              "      <td>NaN</td>\n",
              "      <td>1</td>\n",
              "      <td>58</td>\n",
              "      <td>0</td>\n",
              "      <td>Available with a mobility lease only (\"bail mo...</td>\n",
              "    </tr>\n",
              "    <tr>\n",
              "      <th>4</th>\n",
              "      <td>9952</td>\n",
              "      <td>Paris petit coin douillet</td>\n",
              "      <td>33534</td>\n",
              "      <td>Elisabeth</td>\n",
              "      <td>NaN</td>\n",
              "      <td>Popincourt</td>\n",
              "      <td>48.86227</td>\n",
              "      <td>2.37134</td>\n",
              "      <td>Entire home/apt</td>\n",
              "      <td>80</td>\n",
              "      <td>4</td>\n",
              "      <td>32</td>\n",
              "      <td>2021-06-23</td>\n",
              "      <td>0.51</td>\n",
              "      <td>1</td>\n",
              "      <td>212</td>\n",
              "      <td>7</td>\n",
              "      <td>7511101582862</td>\n",
              "    </tr>\n",
              "  </tbody>\n",
              "</table>\n",
              "</div>\n",
              "      <button class=\"colab-df-convert\" onclick=\"convertToInteractive('df-426690a5-0d90-4d3c-a68b-166c7994ad72')\"\n",
              "              title=\"Convert this dataframe to an interactive table.\"\n",
              "              style=\"display:none;\">\n",
              "        \n",
              "  <svg xmlns=\"http://www.w3.org/2000/svg\" height=\"24px\"viewBox=\"0 0 24 24\"\n",
              "       width=\"24px\">\n",
              "    <path d=\"M0 0h24v24H0V0z\" fill=\"none\"/>\n",
              "    <path d=\"M18.56 5.44l.94 2.06.94-2.06 2.06-.94-2.06-.94-.94-2.06-.94 2.06-2.06.94zm-11 1L8.5 8.5l.94-2.06 2.06-.94-2.06-.94L8.5 2.5l-.94 2.06-2.06.94zm10 10l.94 2.06.94-2.06 2.06-.94-2.06-.94-.94-2.06-.94 2.06-2.06.94z\"/><path d=\"M17.41 7.96l-1.37-1.37c-.4-.4-.92-.59-1.43-.59-.52 0-1.04.2-1.43.59L10.3 9.45l-7.72 7.72c-.78.78-.78 2.05 0 2.83L4 21.41c.39.39.9.59 1.41.59.51 0 1.02-.2 1.41-.59l7.78-7.78 2.81-2.81c.8-.78.8-2.07 0-2.86zM5.41 20L4 18.59l7.72-7.72 1.47 1.35L5.41 20z\"/>\n",
              "  </svg>\n",
              "      </button>\n",
              "      \n",
              "  <style>\n",
              "    .colab-df-container {\n",
              "      display:flex;\n",
              "      flex-wrap:wrap;\n",
              "      gap: 12px;\n",
              "    }\n",
              "\n",
              "    .colab-df-convert {\n",
              "      background-color: #E8F0FE;\n",
              "      border: none;\n",
              "      border-radius: 50%;\n",
              "      cursor: pointer;\n",
              "      display: none;\n",
              "      fill: #1967D2;\n",
              "      height: 32px;\n",
              "      padding: 0 0 0 0;\n",
              "      width: 32px;\n",
              "    }\n",
              "\n",
              "    .colab-df-convert:hover {\n",
              "      background-color: #E2EBFA;\n",
              "      box-shadow: 0px 1px 2px rgba(60, 64, 67, 0.3), 0px 1px 3px 1px rgba(60, 64, 67, 0.15);\n",
              "      fill: #174EA6;\n",
              "    }\n",
              "\n",
              "    [theme=dark] .colab-df-convert {\n",
              "      background-color: #3B4455;\n",
              "      fill: #D2E3FC;\n",
              "    }\n",
              "\n",
              "    [theme=dark] .colab-df-convert:hover {\n",
              "      background-color: #434B5C;\n",
              "      box-shadow: 0px 1px 3px 1px rgba(0, 0, 0, 0.15);\n",
              "      filter: drop-shadow(0px 1px 2px rgba(0, 0, 0, 0.3));\n",
              "      fill: #FFFFFF;\n",
              "    }\n",
              "  </style>\n",
              "\n",
              "      <script>\n",
              "        const buttonEl =\n",
              "          document.querySelector('#df-426690a5-0d90-4d3c-a68b-166c7994ad72 button.colab-df-convert');\n",
              "        buttonEl.style.display =\n",
              "          google.colab.kernel.accessAllowed ? 'block' : 'none';\n",
              "\n",
              "        async function convertToInteractive(key) {\n",
              "          const element = document.querySelector('#df-426690a5-0d90-4d3c-a68b-166c7994ad72');\n",
              "          const dataTable =\n",
              "            await google.colab.kernel.invokeFunction('convertToInteractive',\n",
              "                                                     [key], {});\n",
              "          if (!dataTable) return;\n",
              "\n",
              "          const docLinkHtml = 'Like what you see? Visit the ' +\n",
              "            '<a target=\"_blank\" href=https://colab.research.google.com/notebooks/data_table.ipynb>data table notebook</a>'\n",
              "            + ' to learn more about interactive tables.';\n",
              "          element.innerHTML = '';\n",
              "          dataTable['output_type'] = 'display_data';\n",
              "          await google.colab.output.renderOutput(dataTable, element);\n",
              "          const docLink = document.createElement('div');\n",
              "          docLink.innerHTML = docLinkHtml;\n",
              "          element.appendChild(docLink);\n",
              "        }\n",
              "      </script>\n",
              "    </div>\n",
              "  </div>\n",
              "  "
            ],
            "text/plain": [
              "     id  ...                                            license\n",
              "0  5396  ...                                      7510402838018\n",
              "1  7397  ...                                      7510400829623\n",
              "2  7964  ...                                      7510903576564\n",
              "3  9359  ...  Available with a mobility lease only (\"bail mo...\n",
              "4  9952  ...                                      7511101582862\n",
              "\n",
              "[5 rows x 18 columns]"
            ]
          },
          "metadata": {},
          "execution_count": 47
        }
      ]
    },
    {
      "cell_type": "markdown",
      "source": [
        "No dicionário está indicando que as entradas na variável `id` são valores únicos, exclusivo de cada listagem ou anúncio. \n",
        "\n",
        "Irei testar se o anúncio aparece mais de uma vez no *DataFrame* para decidir se essa varíavel servirá como o *index*."
      ],
      "metadata": {
        "id": "2Mv1HIF6DPAx"
      }
    },
    {
      "cell_type": "code",
      "source": [
        "#identificando valores únicos para a variável id\n",
        "df.id.value_counts()"
      ],
      "metadata": {
        "colab": {
          "base_uri": "https://localhost:8080/"
        },
        "id": "9BS1LorXDtSM",
        "outputId": "e0f3a67f-cf8d-4b04-bdc9-249864129e4f"
      },
      "execution_count": 48,
      "outputs": [
        {
          "output_type": "execute_result",
          "data": {
            "text/plain": [
              "5396        1\n",
              "35864182    1\n",
              "35892166    1\n",
              "35892170    1\n",
              "35892174    1\n",
              "           ..\n",
              "16311234    1\n",
              "16318054    1\n",
              "16318413    1\n",
              "16320883    1\n",
              "52696717    1\n",
              "Name: id, Length: 49634, dtype: int64"
            ]
          },
          "metadata": {},
          "execution_count": 48
        }
      ]
    },
    {
      "cell_type": "code",
      "source": [
        "#identificando número de entradas\n",
        "df.shape[0]"
      ],
      "metadata": {
        "colab": {
          "base_uri": "https://localhost:8080/"
        },
        "id": "LEouo_LLEbtF",
        "outputId": "42388367-b2a7-44aa-e895-4fdaced63d92"
      },
      "execution_count": 49,
      "outputs": [
        {
          "output_type": "execute_result",
          "data": {
            "text/plain": [
              "49634"
            ]
          },
          "metadata": {},
          "execution_count": 49
        }
      ]
    },
    {
      "cell_type": "markdown",
      "source": [
        "Veja que a variável `id` possui 49.634 valores únicos (*Lenght: 49634*), que é o mesmo número de entradas registrados nos dados (*shape[0] = 49634*). Portanto, é possível interpretar que as entradas na variável `id` não se repetem no *DataFrame*. Essa varíavel será utilizada como o *index*."
      ],
      "metadata": {
        "id": "lPGCjPKuEjM9"
      }
    },
    {
      "cell_type": "code",
      "source": [
        " #definindo coluna id como index\n",
        "df = df.set_index('id')"
      ],
      "metadata": {
        "id": "hxggWnEPFNAh"
      },
      "execution_count": 50,
      "outputs": []
    },
    {
      "cell_type": "code",
      "source": [
        "#verificando DataFrame como novo index definido\n",
        "df.head()"
      ],
      "metadata": {
        "colab": {
          "base_uri": "https://localhost:8080/",
          "height": 492
        },
        "id": "i-EywGUQF3fq",
        "outputId": "af18376c-a2a7-4578-b85d-0b654f728ded"
      },
      "execution_count": 51,
      "outputs": [
        {
          "output_type": "execute_result",
          "data": {
            "text/html": [
              "\n",
              "  <div id=\"df-3a4c6d63-eb45-4728-a1d0-21d6fcca8850\">\n",
              "    <div class=\"colab-df-container\">\n",
              "      <div>\n",
              "<style scoped>\n",
              "    .dataframe tbody tr th:only-of-type {\n",
              "        vertical-align: middle;\n",
              "    }\n",
              "\n",
              "    .dataframe tbody tr th {\n",
              "        vertical-align: top;\n",
              "    }\n",
              "\n",
              "    .dataframe thead th {\n",
              "        text-align: right;\n",
              "    }\n",
              "</style>\n",
              "<table border=\"1\" class=\"dataframe\">\n",
              "  <thead>\n",
              "    <tr style=\"text-align: right;\">\n",
              "      <th></th>\n",
              "      <th>name</th>\n",
              "      <th>host_id</th>\n",
              "      <th>host_name</th>\n",
              "      <th>neighbourhood_group</th>\n",
              "      <th>neighbourhood</th>\n",
              "      <th>latitude</th>\n",
              "      <th>longitude</th>\n",
              "      <th>room_type</th>\n",
              "      <th>price</th>\n",
              "      <th>minimum_nights</th>\n",
              "      <th>number_of_reviews</th>\n",
              "      <th>last_review</th>\n",
              "      <th>reviews_per_month</th>\n",
              "      <th>calculated_host_listings_count</th>\n",
              "      <th>availability_365</th>\n",
              "      <th>number_of_reviews_ltm</th>\n",
              "      <th>license</th>\n",
              "    </tr>\n",
              "    <tr>\n",
              "      <th>id</th>\n",
              "      <th></th>\n",
              "      <th></th>\n",
              "      <th></th>\n",
              "      <th></th>\n",
              "      <th></th>\n",
              "      <th></th>\n",
              "      <th></th>\n",
              "      <th></th>\n",
              "      <th></th>\n",
              "      <th></th>\n",
              "      <th></th>\n",
              "      <th></th>\n",
              "      <th></th>\n",
              "      <th></th>\n",
              "      <th></th>\n",
              "      <th></th>\n",
              "      <th></th>\n",
              "    </tr>\n",
              "  </thead>\n",
              "  <tbody>\n",
              "    <tr>\n",
              "      <th>5396</th>\n",
              "      <td>Explore the heart of old Paris</td>\n",
              "      <td>7903</td>\n",
              "      <td>Borzou</td>\n",
              "      <td>NaN</td>\n",
              "      <td>Hôtel-de-Ville</td>\n",
              "      <td>48.85207</td>\n",
              "      <td>2.35871</td>\n",
              "      <td>Entire home/apt</td>\n",
              "      <td>100</td>\n",
              "      <td>2</td>\n",
              "      <td>263</td>\n",
              "      <td>2020-08-08</td>\n",
              "      <td>2.68</td>\n",
              "      <td>1</td>\n",
              "      <td>55</td>\n",
              "      <td>35</td>\n",
              "      <td>7510402838018</td>\n",
              "    </tr>\n",
              "    <tr>\n",
              "      <th>7397</th>\n",
              "      <td>MARAIS - 2ROOMS APT - 2/4 PEOPLE</td>\n",
              "      <td>2626</td>\n",
              "      <td>Franck</td>\n",
              "      <td>NaN</td>\n",
              "      <td>Hôtel-de-Ville</td>\n",
              "      <td>48.85909</td>\n",
              "      <td>2.35315</td>\n",
              "      <td>Entire home/apt</td>\n",
              "      <td>105</td>\n",
              "      <td>10</td>\n",
              "      <td>282</td>\n",
              "      <td>2021-09-29</td>\n",
              "      <td>2.28</td>\n",
              "      <td>1</td>\n",
              "      <td>233</td>\n",
              "      <td>13</td>\n",
              "      <td>7510400829623</td>\n",
              "    </tr>\n",
              "    <tr>\n",
              "      <th>7964</th>\n",
              "      <td>Large &amp; sunny flat with balcony !</td>\n",
              "      <td>22155</td>\n",
              "      <td>Anaïs</td>\n",
              "      <td>NaN</td>\n",
              "      <td>Opéra</td>\n",
              "      <td>48.87417</td>\n",
              "      <td>2.34245</td>\n",
              "      <td>Entire home/apt</td>\n",
              "      <td>130</td>\n",
              "      <td>6</td>\n",
              "      <td>6</td>\n",
              "      <td>2015-09-14</td>\n",
              "      <td>0.07</td>\n",
              "      <td>1</td>\n",
              "      <td>293</td>\n",
              "      <td>0</td>\n",
              "      <td>7510903576564</td>\n",
              "    </tr>\n",
              "    <tr>\n",
              "      <th>9359</th>\n",
              "      <td>Cozy, Central Paris: WALK or VELIB EVERYWHERE !</td>\n",
              "      <td>28422</td>\n",
              "      <td>Bernadette</td>\n",
              "      <td>NaN</td>\n",
              "      <td>Louvre</td>\n",
              "      <td>48.85899</td>\n",
              "      <td>2.34735</td>\n",
              "      <td>Entire home/apt</td>\n",
              "      <td>75</td>\n",
              "      <td>180</td>\n",
              "      <td>0</td>\n",
              "      <td>NaN</td>\n",
              "      <td>NaN</td>\n",
              "      <td>1</td>\n",
              "      <td>58</td>\n",
              "      <td>0</td>\n",
              "      <td>Available with a mobility lease only (\"bail mo...</td>\n",
              "    </tr>\n",
              "    <tr>\n",
              "      <th>9952</th>\n",
              "      <td>Paris petit coin douillet</td>\n",
              "      <td>33534</td>\n",
              "      <td>Elisabeth</td>\n",
              "      <td>NaN</td>\n",
              "      <td>Popincourt</td>\n",
              "      <td>48.86227</td>\n",
              "      <td>2.37134</td>\n",
              "      <td>Entire home/apt</td>\n",
              "      <td>80</td>\n",
              "      <td>4</td>\n",
              "      <td>32</td>\n",
              "      <td>2021-06-23</td>\n",
              "      <td>0.51</td>\n",
              "      <td>1</td>\n",
              "      <td>212</td>\n",
              "      <td>7</td>\n",
              "      <td>7511101582862</td>\n",
              "    </tr>\n",
              "  </tbody>\n",
              "</table>\n",
              "</div>\n",
              "      <button class=\"colab-df-convert\" onclick=\"convertToInteractive('df-3a4c6d63-eb45-4728-a1d0-21d6fcca8850')\"\n",
              "              title=\"Convert this dataframe to an interactive table.\"\n",
              "              style=\"display:none;\">\n",
              "        \n",
              "  <svg xmlns=\"http://www.w3.org/2000/svg\" height=\"24px\"viewBox=\"0 0 24 24\"\n",
              "       width=\"24px\">\n",
              "    <path d=\"M0 0h24v24H0V0z\" fill=\"none\"/>\n",
              "    <path d=\"M18.56 5.44l.94 2.06.94-2.06 2.06-.94-2.06-.94-.94-2.06-.94 2.06-2.06.94zm-11 1L8.5 8.5l.94-2.06 2.06-.94-2.06-.94L8.5 2.5l-.94 2.06-2.06.94zm10 10l.94 2.06.94-2.06 2.06-.94-2.06-.94-.94-2.06-.94 2.06-2.06.94z\"/><path d=\"M17.41 7.96l-1.37-1.37c-.4-.4-.92-.59-1.43-.59-.52 0-1.04.2-1.43.59L10.3 9.45l-7.72 7.72c-.78.78-.78 2.05 0 2.83L4 21.41c.39.39.9.59 1.41.59.51 0 1.02-.2 1.41-.59l7.78-7.78 2.81-2.81c.8-.78.8-2.07 0-2.86zM5.41 20L4 18.59l7.72-7.72 1.47 1.35L5.41 20z\"/>\n",
              "  </svg>\n",
              "      </button>\n",
              "      \n",
              "  <style>\n",
              "    .colab-df-container {\n",
              "      display:flex;\n",
              "      flex-wrap:wrap;\n",
              "      gap: 12px;\n",
              "    }\n",
              "\n",
              "    .colab-df-convert {\n",
              "      background-color: #E8F0FE;\n",
              "      border: none;\n",
              "      border-radius: 50%;\n",
              "      cursor: pointer;\n",
              "      display: none;\n",
              "      fill: #1967D2;\n",
              "      height: 32px;\n",
              "      padding: 0 0 0 0;\n",
              "      width: 32px;\n",
              "    }\n",
              "\n",
              "    .colab-df-convert:hover {\n",
              "      background-color: #E2EBFA;\n",
              "      box-shadow: 0px 1px 2px rgba(60, 64, 67, 0.3), 0px 1px 3px 1px rgba(60, 64, 67, 0.15);\n",
              "      fill: #174EA6;\n",
              "    }\n",
              "\n",
              "    [theme=dark] .colab-df-convert {\n",
              "      background-color: #3B4455;\n",
              "      fill: #D2E3FC;\n",
              "    }\n",
              "\n",
              "    [theme=dark] .colab-df-convert:hover {\n",
              "      background-color: #434B5C;\n",
              "      box-shadow: 0px 1px 3px 1px rgba(0, 0, 0, 0.15);\n",
              "      filter: drop-shadow(0px 1px 2px rgba(0, 0, 0, 0.3));\n",
              "      fill: #FFFFFF;\n",
              "    }\n",
              "  </style>\n",
              "\n",
              "      <script>\n",
              "        const buttonEl =\n",
              "          document.querySelector('#df-3a4c6d63-eb45-4728-a1d0-21d6fcca8850 button.colab-df-convert');\n",
              "        buttonEl.style.display =\n",
              "          google.colab.kernel.accessAllowed ? 'block' : 'none';\n",
              "\n",
              "        async function convertToInteractive(key) {\n",
              "          const element = document.querySelector('#df-3a4c6d63-eb45-4728-a1d0-21d6fcca8850');\n",
              "          const dataTable =\n",
              "            await google.colab.kernel.invokeFunction('convertToInteractive',\n",
              "                                                     [key], {});\n",
              "          if (!dataTable) return;\n",
              "\n",
              "          const docLinkHtml = 'Like what you see? Visit the ' +\n",
              "            '<a target=\"_blank\" href=https://colab.research.google.com/notebooks/data_table.ipynb>data table notebook</a>'\n",
              "            + ' to learn more about interactive tables.';\n",
              "          element.innerHTML = '';\n",
              "          dataTable['output_type'] = 'display_data';\n",
              "          await google.colab.output.renderOutput(dataTable, element);\n",
              "          const docLink = document.createElement('div');\n",
              "          docLink.innerHTML = docLinkHtml;\n",
              "          element.appendChild(docLink);\n",
              "        }\n",
              "      </script>\n",
              "    </div>\n",
              "  </div>\n",
              "  "
            ],
            "text/plain": [
              "                                                 name  ...                                            license\n",
              "id                                                     ...                                                   \n",
              "5396                   Explore the heart of old Paris  ...                                      7510402838018\n",
              "7397                 MARAIS - 2ROOMS APT - 2/4 PEOPLE  ...                                      7510400829623\n",
              "7964                Large & sunny flat with balcony !  ...                                      7510903576564\n",
              "9359  Cozy, Central Paris: WALK or VELIB EVERYWHERE !  ...  Available with a mobility lease only (\"bail mo...\n",
              "9952                        Paris petit coin douillet  ...                                      7511101582862\n",
              "\n",
              "[5 rows x 17 columns]"
            ]
          },
          "metadata": {},
          "execution_count": 51
        }
      ]
    },
    {
      "cell_type": "markdown",
      "source": [
        "### **Quantos atributos (variáveis) e quantas entradas o conjunto de dados possui? Quais os tipos das variáveis?**\n",
        "\n",
        "Essa é uma exploração inicial a partir de onde será possível compreender os dados que foram fornecidos."
      ],
      "metadata": {
        "id": "g5t8iLIOlGID"
      }
    },
    {
      "cell_type": "code",
      "source": [
        "#verificando o número de variáveis e entradas\n",
        "print(\"\\nVariavéis do DataFrame: {}\".format(df.shape[1]),\n",
        "      \"\\nNúmero de Entradas: {}\".format(df.shape[0]))"
      ],
      "metadata": {
        "colab": {
          "base_uri": "https://localhost:8080/"
        },
        "id": "Zrvw6vqtlGq0",
        "outputId": "7c76b41c-0ff4-45d3-8254-cf78dbd55999"
      },
      "execution_count": 52,
      "outputs": [
        {
          "output_type": "stream",
          "name": "stdout",
          "text": [
            "\n",
            "Variavéis do DataFrame: 17 \n",
            "Número de Entradas: 49634\n"
          ]
        }
      ]
    },
    {
      "cell_type": "code",
      "source": [
        "#identificando os tipo de cada variavél\n",
        "df.dtypes"
      ],
      "metadata": {
        "colab": {
          "base_uri": "https://localhost:8080/"
        },
        "id": "lZt_DyQWlZok",
        "outputId": "d5afbb01-0e2b-4b3c-9062-9b3c9008fd3d"
      },
      "execution_count": 53,
      "outputs": [
        {
          "output_type": "execute_result",
          "data": {
            "text/plain": [
              "name                               object\n",
              "host_id                             int64\n",
              "host_name                          object\n",
              "neighbourhood_group               float64\n",
              "neighbourhood                      object\n",
              "latitude                          float64\n",
              "longitude                         float64\n",
              "room_type                          object\n",
              "price                               int64\n",
              "minimum_nights                      int64\n",
              "number_of_reviews                   int64\n",
              "last_review                        object\n",
              "reviews_per_month                 float64\n",
              "calculated_host_listings_count      int64\n",
              "availability_365                    int64\n",
              "number_of_reviews_ltm               int64\n",
              "license                            object\n",
              "dtype: object"
            ]
          },
          "metadata": {},
          "execution_count": 53
        }
      ]
    },
    {
      "cell_type": "markdown",
      "source": [
        "####Tratando os tipos das variáveis\n",
        "\n",
        "É possível perceber que algumas variáveis não tiveram o `type` reconhecidos corretamente, visto que estão diferentes do que era esperado no **dicionário**.\n",
        "\n",
        "A variavél `last_review` no dicionário é descrita como sendo do tipo *date* porém foi reconhecida como *object*. É necessário acertar o seu tipo.\n",
        "\n",
        "Antes de iniciar os ajustes no *DataFrame* irei criar chek point, para o caso de ser necessário verificar o dataset original."
      ],
      "metadata": {
        "id": "vtN1eCih4jTS"
      }
    },
    {
      "cell_type": "code",
      "source": [
        "#criando uma cópia do dataset\n",
        "df_clean = df.copy()"
      ],
      "metadata": {
        "id": "-gFadKvG9PD4"
      },
      "execution_count": 54,
      "outputs": []
    },
    {
      "cell_type": "code",
      "source": [
        "#ajustando type da variável last_review\n",
        "df_clean[['last_review']] = df_clean[['last_review']].astype('datetime64')"
      ],
      "metadata": {
        "id": "9ClA9uB45DvD"
      },
      "execution_count": 55,
      "outputs": []
    },
    {
      "cell_type": "markdown",
      "source": [
        "Já a variável `price`, pelo nosso dicionário deveria ser uma entrada do tipo *currency*, ou seja, se refere a um valor na moeda local. Sabendo também, que valores de moeda são decimais, irei alterar seu tipo para `float`.\n",
        "\n",
        "Por se tratar de dados de Paris, entende-se que os valores descritos estão em *Euros (€)*."
      ],
      "metadata": {
        "id": "96Aght_76WWu"
      }
    },
    {
      "cell_type": "code",
      "source": [
        "#ajustando type da variável price\n",
        "df_clean[['price']] = df_clean[['price']].astype('float')"
      ],
      "metadata": {
        "id": "aK4Y2cEX7mhh"
      },
      "execution_count": 56,
      "outputs": []
    },
    {
      "cell_type": "code",
      "source": [
        "#verificando se as mudanças foram efetivas\n",
        "df_clean.dtypes"
      ],
      "metadata": {
        "colab": {
          "base_uri": "https://localhost:8080/"
        },
        "id": "J5sAJQBU6Cek",
        "outputId": "2f4772a4-e83a-4bab-f17c-04c4c67b232c"
      },
      "execution_count": 57,
      "outputs": [
        {
          "output_type": "execute_result",
          "data": {
            "text/plain": [
              "name                                      object\n",
              "host_id                                    int64\n",
              "host_name                                 object\n",
              "neighbourhood_group                      float64\n",
              "neighbourhood                             object\n",
              "latitude                                 float64\n",
              "longitude                                float64\n",
              "room_type                                 object\n",
              "price                                    float64\n",
              "minimum_nights                             int64\n",
              "number_of_reviews                          int64\n",
              "last_review                       datetime64[ns]\n",
              "reviews_per_month                        float64\n",
              "calculated_host_listings_count             int64\n",
              "availability_365                           int64\n",
              "number_of_reviews_ltm                      int64\n",
              "license                                   object\n",
              "dtype: object"
            ]
          },
          "metadata": {},
          "execution_count": 57
        }
      ]
    },
    {
      "cell_type": "markdown",
      "source": [
        "### **Qual a porcentagem de valores ausentes no *dataset*?**\n",
        "\n",
        "Os valores ausentes no *DataFrame* podem induzir a interpretações incorretas dos dados. Portanto é importante identificar a sua representatividade dentro do conjunto e tomar ações para o uso correto do restante dos dados que estão presentes no *DataFrame*.\n",
        "\n",
        "Abaixo, é possível ver o percentual de valores ausentes para cada variável e ter a consciência da sua dimensão."
      ],
      "metadata": {
        "id": "C0zR-yA1nItS"
      }
    },
    {
      "cell_type": "code",
      "source": [
        "#identificando valores ausentes\n",
        "((df_clean.isnull().sum() / df_clean.shape[0]).sort_values(ascending = False)) * 100"
      ],
      "metadata": {
        "colab": {
          "base_uri": "https://localhost:8080/"
        },
        "id": "nXp_Sm86mIl2",
        "outputId": "08f7418a-d67f-44d8-ac6b-42997d018c17"
      },
      "execution_count": 58,
      "outputs": [
        {
          "output_type": "execute_result",
          "data": {
            "text/plain": [
              "neighbourhood_group               100.000000\n",
              "license                            43.722045\n",
              "last_review                        22.180360\n",
              "reviews_per_month                  22.180360\n",
              "name                                0.094693\n",
              "host_name                           0.056413\n",
              "latitude                            0.000000\n",
              "longitude                           0.000000\n",
              "room_type                           0.000000\n",
              "host_id                             0.000000\n",
              "minimum_nights                      0.000000\n",
              "number_of_reviews                   0.000000\n",
              "neighbourhood                       0.000000\n",
              "calculated_host_listings_count      0.000000\n",
              "availability_365                    0.000000\n",
              "number_of_reviews_ltm               0.000000\n",
              "price                               0.000000\n",
              "dtype: float64"
            ]
          },
          "metadata": {},
          "execution_count": 58
        }
      ]
    },
    {
      "cell_type": "markdown",
      "source": [
        "####Tratando os valores ausentes\n",
        "\n",
        "Podemos assumir por excluir ou substituir os valores ausentes por algum mais representativo, como a média ou a mediana. Optar pela exclusão é sempre um trade-off, pois podemos descartar outras informações das entradas. Então é relevante ter cautela, seja qual for a decisão, porque irá  infuenciar as informações e decisões extraídas da análise.\n",
        "\n",
        "Na classificação acima a variável `neighbourhood_group`, que deveria estar preenchida com texto, está 100% vazia. Logo, ela pode ser descartada, pois não irá contribuir com a análise nesse momento. Em outras aplicações, é interessante entender o motivo desse \"não preenchimento\", uma vez que isto pode ser uma característica dos seus dados.\n",
        "\n",
        "Ao tomar essa ação, é necessário ter atenção no procedimento escolhido para excluir apenas a variável e não as entradas com valores vazios nessa variável, já que a segunda opção iria excluir todas as entradas do *DataFrame*."
      ],
      "metadata": {
        "id": "VDkg0ZqW9-fT"
      }
    },
    {
      "cell_type": "code",
      "source": [
        "#excluir a variável neighbourhood_group\n",
        "df_clean.drop(columns=['neighbourhood_group'], inplace = True)"
      ],
      "metadata": {
        "id": "l1vzUnEgAitr"
      },
      "execution_count": 59,
      "outputs": []
    },
    {
      "cell_type": "code",
      "source": [
        "#comparar o antes e o depois\n",
        "print(\"Antes: \\t{}\".format(df.shape),\n",
        "      \"\\nDepois: {}\".format(df_clean.shape))"
      ],
      "metadata": {
        "colab": {
          "base_uri": "https://localhost:8080/"
        },
        "id": "hZx_pSZQCBUV",
        "outputId": "e1a3e9d8-3419-4663-9a7a-721ded133fc5"
      },
      "execution_count": 60,
      "outputs": [
        {
          "output_type": "stream",
          "name": "stdout",
          "text": [
            "Antes: \t(49634, 17) \n",
            "Depois: (49634, 16)\n"
          ]
        }
      ]
    },
    {
      "cell_type": "markdown",
      "source": [
        "O *DataFrame* não teve o número de entradas/ linhas (49.634) alterado e está com uma variável a menos (16 variáveis).\n",
        "\n",
        "Ao longo da análise irei identificar se é necessário tratar os demais valores ausentes das outras variáveis (`license`, `last_review`, `reviews_per_month`, `name` e `host_name`)."
      ],
      "metadata": {
        "id": "U_KkMbLkCtNj"
      }
    },
    {
      "cell_type": "markdown",
      "source": [
        "### **Qual o tipo de distribuição das variáveis?** \n",
        "\n",
        "A visualização dos valores através de histogramas facilita a análse e interpretação.\n",
        "\n",
        "Ao criar a visualização para todos as entradas númericas, algumas não irão fazer sentido e podem ser desconsideradas como `host_id`, `latitude`, `longitude`. Já para as demais, pode-se retirar bons insights para o tratamento dos dados."
      ],
      "metadata": {
        "id": "mG-5BcGL3-yI"
      }
    },
    {
      "cell_type": "code",
      "source": [
        "#verificando as distribuções\n",
        "df_clean.hist(figsize=(20,15), grid=False);"
      ],
      "metadata": {
        "colab": {
          "base_uri": "https://localhost:8080/",
          "height": 879
        },
        "id": "dQNNyNfP4Qqi",
        "outputId": "6d892b03-c015-4f6d-b699-b0a2ba678f9a"
      },
      "execution_count": 61,
      "outputs": [
        {
          "output_type": "display_data",
          "data": {
            "image/png": "[encoded data removed]",
            "text/plain": [
              "<Figure size 1440x1080 with 12 Axes>"
            ]
          },
          "metadata": {
            "needs_background": "light"
          }
        }
      ]
    },
    {
      "cell_type": "markdown",
      "source": [
        "No histograma da variável `price` pode-se ver que não há uma distribuição. Isso sugere que existam outliers nas entradas. O mesmo acontece para `minimum_nights`. \n",
        "\n",
        "Para essa análise exploratória, será útil checar também as informações estatísticas dessas variáveis."
      ],
      "metadata": {
        "id": "8AQ9Lo_pG4ov"
      }
    },
    {
      "cell_type": "code",
      "source": [
        "#verificando informações estatísticas\n",
        "df_clean.describe()"
      ],
      "metadata": {
        "colab": {
          "base_uri": "https://localhost:8080/",
          "height": 300
        },
        "id": "VhjomfxRHymg",
        "outputId": "1a6f12c9-aa68-4bc2-ed0e-bd285c4353b5"
      },
      "execution_count": 62,
      "outputs": [
        {
          "output_type": "execute_result",
          "data": {
            "text/html": [
              "\n",
              "  <div id=\"df-581fb85b-6701-4847-87e3-c33bb5c42607\">\n",
              "    <div class=\"colab-df-container\">\n",
              "      <div>\n",
              "<style scoped>\n",
              "    .dataframe tbody tr th:only-of-type {\n",
              "        vertical-align: middle;\n",
              "    }\n",
              "\n",
              "    .dataframe tbody tr th {\n",
              "        vertical-align: top;\n",
              "    }\n",
              "\n",
              "    .dataframe thead th {\n",
              "        text-align: right;\n",
              "    }\n",
              "</style>\n",
              "<table border=\"1\" class=\"dataframe\">\n",
              "  <thead>\n",
              "    <tr style=\"text-align: right;\">\n",
              "      <th></th>\n",
              "      <th>host_id</th>\n",
              "      <th>latitude</th>\n",
              "      <th>longitude</th>\n",
              "      <th>price</th>\n",
              "      <th>minimum_nights</th>\n",
              "      <th>number_of_reviews</th>\n",
              "      <th>reviews_per_month</th>\n",
              "      <th>calculated_host_listings_count</th>\n",
              "      <th>availability_365</th>\n",
              "      <th>number_of_reviews_ltm</th>\n",
              "    </tr>\n",
              "  </thead>\n",
              "  <tbody>\n",
              "    <tr>\n",
              "      <th>count</th>\n",
              "      <td>4.963400e+04</td>\n",
              "      <td>49634.000000</td>\n",
              "      <td>49634.000000</td>\n",
              "      <td>49634.000000</td>\n",
              "      <td>49634.000000</td>\n",
              "      <td>49634.000000</td>\n",
              "      <td>38625.000000</td>\n",
              "      <td>49634.000000</td>\n",
              "      <td>49634.000000</td>\n",
              "      <td>49634.000000</td>\n",
              "    </tr>\n",
              "    <tr>\n",
              "      <th>mean</th>\n",
              "      <td>9.711188e+07</td>\n",
              "      <td>48.863998</td>\n",
              "      <td>2.344889</td>\n",
              "      <td>130.203207</td>\n",
              "      <td>111.961256</td>\n",
              "      <td>21.131080</td>\n",
              "      <td>0.813996</td>\n",
              "      <td>13.192167</td>\n",
              "      <td>100.681569</td>\n",
              "      <td>2.789016</td>\n",
              "    </tr>\n",
              "    <tr>\n",
              "      <th>std</th>\n",
              "      <td>1.179651e+08</td>\n",
              "      <td>0.018146</td>\n",
              "      <td>0.033118</td>\n",
              "      <td>229.383172</td>\n",
              "      <td>169.898643</td>\n",
              "      <td>45.624607</td>\n",
              "      <td>1.243740</td>\n",
              "      <td>47.381927</td>\n",
              "      <td>134.541931</td>\n",
              "      <td>11.946425</td>\n",
              "    </tr>\n",
              "    <tr>\n",
              "      <th>min</th>\n",
              "      <td>2.626000e+03</td>\n",
              "      <td>48.812220</td>\n",
              "      <td>2.221440</td>\n",
              "      <td>0.000000</td>\n",
              "      <td>1.000000</td>\n",
              "      <td>0.000000</td>\n",
              "      <td>0.010000</td>\n",
              "      <td>1.000000</td>\n",
              "      <td>0.000000</td>\n",
              "      <td>0.000000</td>\n",
              "    </tr>\n",
              "    <tr>\n",
              "      <th>25%</th>\n",
              "      <td>1.321955e+07</td>\n",
              "      <td>48.850880</td>\n",
              "      <td>2.324130</td>\n",
              "      <td>60.000000</td>\n",
              "      <td>2.000000</td>\n",
              "      <td>1.000000</td>\n",
              "      <td>0.130000</td>\n",
              "      <td>1.000000</td>\n",
              "      <td>0.000000</td>\n",
              "      <td>0.000000</td>\n",
              "    </tr>\n",
              "    <tr>\n",
              "      <th>50%</th>\n",
              "      <td>3.876027e+07</td>\n",
              "      <td>48.865330</td>\n",
              "      <td>2.347985</td>\n",
              "      <td>90.000000</td>\n",
              "      <td>4.000000</td>\n",
              "      <td>5.000000</td>\n",
              "      <td>0.390000</td>\n",
              "      <td>1.000000</td>\n",
              "      <td>1.000000</td>\n",
              "      <td>0.000000</td>\n",
              "    </tr>\n",
              "    <tr>\n",
              "      <th>75%</th>\n",
              "      <td>1.437275e+08</td>\n",
              "      <td>48.878450</td>\n",
              "      <td>2.369280</td>\n",
              "      <td>140.000000</td>\n",
              "      <td>365.000000</td>\n",
              "      <td>21.000000</td>\n",
              "      <td>1.000000</td>\n",
              "      <td>2.000000</td>\n",
              "      <td>221.000000</td>\n",
              "      <td>2.000000</td>\n",
              "    </tr>\n",
              "    <tr>\n",
              "      <th>max</th>\n",
              "      <td>4.263328e+08</td>\n",
              "      <td>48.905690</td>\n",
              "      <td>2.467120</td>\n",
              "      <td>11600.000000</td>\n",
              "      <td>9999.000000</td>\n",
              "      <td>1711.000000</td>\n",
              "      <td>50.920000</td>\n",
              "      <td>382.000000</td>\n",
              "      <td>365.000000</td>\n",
              "      <td>1644.000000</td>\n",
              "    </tr>\n",
              "  </tbody>\n",
              "</table>\n",
              "</div>\n",
              "      <button class=\"colab-df-convert\" onclick=\"convertToInteractive('df-581fb85b-6701-4847-87e3-c33bb5c42607')\"\n",
              "              title=\"Convert this dataframe to an interactive table.\"\n",
              "              style=\"display:none;\">\n",
              "        \n",
              "  <svg xmlns=\"http://www.w3.org/2000/svg\" height=\"24px\"viewBox=\"0 0 24 24\"\n",
              "       width=\"24px\">\n",
              "    <path d=\"M0 0h24v24H0V0z\" fill=\"none\"/>\n",
              "    <path d=\"M18.56 5.44l.94 2.06.94-2.06 2.06-.94-2.06-.94-.94-2.06-.94 2.06-2.06.94zm-11 1L8.5 8.5l.94-2.06 2.06-.94-2.06-.94L8.5 2.5l-.94 2.06-2.06.94zm10 10l.94 2.06.94-2.06 2.06-.94-2.06-.94-.94-2.06-.94 2.06-2.06.94z\"/><path d=\"M17.41 7.96l-1.37-1.37c-.4-.4-.92-.59-1.43-.59-.52 0-1.04.2-1.43.59L10.3 9.45l-7.72 7.72c-.78.78-.78 2.05 0 2.83L4 21.41c.39.39.9.59 1.41.59.51 0 1.02-.2 1.41-.59l7.78-7.78 2.81-2.81c.8-.78.8-2.07 0-2.86zM5.41 20L4 18.59l7.72-7.72 1.47 1.35L5.41 20z\"/>\n",
              "  </svg>\n",
              "      </button>\n",
              "      \n",
              "  <style>\n",
              "    .colab-df-container {\n",
              "      display:flex;\n",
              "      flex-wrap:wrap;\n",
              "      gap: 12px;\n",
              "    }\n",
              "\n",
              "    .colab-df-convert {\n",
              "      background-color: #E8F0FE;\n",
              "      border: none;\n",
              "      border-radius: 50%;\n",
              "      cursor: pointer;\n",
              "      display: none;\n",
              "      fill: #1967D2;\n",
              "      height: 32px;\n",
              "      padding: 0 0 0 0;\n",
              "      width: 32px;\n",
              "    }\n",
              "\n",
              "    .colab-df-convert:hover {\n",
              "      background-color: #E2EBFA;\n",
              "      box-shadow: 0px 1px 2px rgba(60, 64, 67, 0.3), 0px 1px 3px 1px rgba(60, 64, 67, 0.15);\n",
              "      fill: #174EA6;\n",
              "    }\n",
              "\n",
              "    [theme=dark] .colab-df-convert {\n",
              "      background-color: #3B4455;\n",
              "      fill: #D2E3FC;\n",
              "    }\n",
              "\n",
              "    [theme=dark] .colab-df-convert:hover {\n",
              "      background-color: #434B5C;\n",
              "      box-shadow: 0px 1px 3px 1px rgba(0, 0, 0, 0.15);\n",
              "      filter: drop-shadow(0px 1px 2px rgba(0, 0, 0, 0.3));\n",
              "      fill: #FFFFFF;\n",
              "    }\n",
              "  </style>\n",
              "\n",
              "      <script>\n",
              "        const buttonEl =\n",
              "          document.querySelector('#df-581fb85b-6701-4847-87e3-c33bb5c42607 button.colab-df-convert');\n",
              "        buttonEl.style.display =\n",
              "          google.colab.kernel.accessAllowed ? 'block' : 'none';\n",
              "\n",
              "        async function convertToInteractive(key) {\n",
              "          const element = document.querySelector('#df-581fb85b-6701-4847-87e3-c33bb5c42607');\n",
              "          const dataTable =\n",
              "            await google.colab.kernel.invokeFunction('convertToInteractive',\n",
              "                                                     [key], {});\n",
              "          if (!dataTable) return;\n",
              "\n",
              "          const docLinkHtml = 'Like what you see? Visit the ' +\n",
              "            '<a target=\"_blank\" href=https://colab.research.google.com/notebooks/data_table.ipynb>data table notebook</a>'\n",
              "            + ' to learn more about interactive tables.';\n",
              "          element.innerHTML = '';\n",
              "          dataTable['output_type'] = 'display_data';\n",
              "          await google.colab.output.renderOutput(dataTable, element);\n",
              "          const docLink = document.createElement('div');\n",
              "          docLink.innerHTML = docLinkHtml;\n",
              "          element.appendChild(docLink);\n",
              "        }\n",
              "      </script>\n",
              "    </div>\n",
              "  </div>\n",
              "  "
            ],
            "text/plain": [
              "            host_id      latitude  ...  availability_365  number_of_reviews_ltm\n",
              "count  4.963400e+04  49634.000000  ...      49634.000000           49634.000000\n",
              "mean   9.711188e+07     48.863998  ...        100.681569               2.789016\n",
              "std    1.179651e+08      0.018146  ...        134.541931              11.946425\n",
              "min    2.626000e+03     48.812220  ...          0.000000               0.000000\n",
              "25%    1.321955e+07     48.850880  ...          0.000000               0.000000\n",
              "50%    3.876027e+07     48.865330  ...          1.000000               0.000000\n",
              "75%    1.437275e+08     48.878450  ...        221.000000               2.000000\n",
              "max    4.263328e+08     48.905690  ...        365.000000            1644.000000\n",
              "\n",
              "[8 rows x 10 columns]"
            ]
          },
          "metadata": {},
          "execution_count": 62
        }
      ]
    },
    {
      "cell_type": "markdown",
      "source": [
        "Aqui pode-se entender melhor algumas características dos dados. \n",
        "\n",
        "Na variável `price` tem-se que a mediana (quartil 50%) das entradas é de 90.00 Euros, já o valor máximo registrado está em 11600.00 Euros por diária. Possivelmente temos um outlier nessa variável. É difícil imaginar que alguém pagaria tão caro por uma hospedagem."
      ],
      "metadata": {
        "id": "HJ3VCG29IedJ"
      }
    },
    {
      "cell_type": "markdown",
      "source": [
        "> Outliers são valores que se distanciam muito dos demais, podendo ser para cima (superiores) ou para baixo (inferiores)."
      ],
      "metadata": {
        "id": "0OpbrdOAsjfg"
      }
    },
    {
      "cell_type": "markdown",
      "source": [
        "Outro detalhe que chama a atenção é o valor mínimo cobrado por uma diária, que é de 0 (zero) Euros. Nessa análise, vou deduzir que essas entradas provavelmente possuem algum erro, pois certamente não haverá aluguel gratuito na plataforma.\n",
        "\n",
        "Para a variável `minimum_ninghts` também nota-se que o maior valor (9999) não condiz com a realidade de quem faz locação por pernoites, já que isso equivale a mais de 27 anos de diárias.\n",
        "\n",
        "Um quarto ponto que chama a atenção é o Q3 (quartil 75%) muito alto, 365 dias. Uma dedução é que um ou mais anfitriões tenham disponibilizado seus imovéis pelo período mínimo de 1 ano, o que não foge tanto assim da realidade do negócio."
      ],
      "metadata": {
        "id": "YneNRt6ssg4j"
      }
    },
    {
      "cell_type": "markdown",
      "source": [
        "Nossa primeira tratativa será identificar a proporção de entradas com preço igual a zero."
      ],
      "metadata": {
        "id": "tkFebScStP6H"
      }
    },
    {
      "cell_type": "code",
      "source": [
        "#identificando número de entradas com price igual a zero\n",
        "df_clean.price.value_counts()[0]"
      ],
      "metadata": {
        "colab": {
          "base_uri": "https://localhost:8080/"
        },
        "id": "M0eRWaWgJgI4",
        "outputId": "515a777b-c11d-4dea-e4fc-ed46e7c4ddc7"
      },
      "execution_count": 63,
      "outputs": [
        {
          "output_type": "execute_result",
          "data": {
            "text/plain": [
              "59"
            ]
          },
          "metadata": {},
          "execution_count": 63
        }
      ]
    },
    {
      "cell_type": "markdown",
      "source": [
        "59 entradas é uma proporção muito pequena comparada ao número total (49634). Podemos decidir excluir essas entradas.\n",
        "\n",
        "Antes disso, continuaremos a análise dos outliers."
      ],
      "metadata": {
        "id": "VXIwgAOHLnTS"
      }
    },
    {
      "cell_type": "markdown",
      "source": [
        "####Tratando outliers\n",
        "\n",
        "Vou tratar os outliers de algumas variáveis que podem ser importantes nessa análise e para isso é preciso para cada uma delas:\n",
        "\n",
        "* Definir o Q1 (quartil 25%) e Q3 (quartil 75%)\n",
        "* Calcular o IQR (intervalo entre quartis) = Q3 - Q1\n",
        "* Definir o limite superior (Q3 + 1.5 * IQR) e inferior (Q1 - 1.5 * IQR) para cortar os outliers"
      ],
      "metadata": {
        "id": "YCI8PDkyHamr"
      }
    },
    {
      "cell_type": "code",
      "source": [
        "#identificar os outliers para a variável price\n",
        "q1_price = df_clean.price.quantile(.25)\n",
        "q3_price = df_clean.price.quantile(.75)\n",
        "iqr_price = q3_price - q1_price\n",
        "print('IQR da variável price é: ', iqr_price)\n",
        "\n",
        "#definindo os limites\n",
        "sup_price = q3_price + 1.5 * iqr_price\n",
        "inf_price = q1_price - 1.5 * iqr_price\n",
        "print('O limite superior é: ', sup_price)\n",
        "print('O limite inferior é: ', inf_price)"
      ],
      "metadata": {
        "colab": {
          "base_uri": "https://localhost:8080/"
        },
        "id": "rJCpT-ewJQYd",
        "outputId": "0d7dca6b-b793-4b4d-86d6-ca19f2bc0ef5"
      },
      "execution_count": 64,
      "outputs": [
        {
          "output_type": "stream",
          "name": "stdout",
          "text": [
            "IQR da variável price é:  80.0\n",
            "O limite superior é:  260.0\n",
            "O limite inferior é:  -60.0\n"
          ]
        }
      ]
    },
    {
      "cell_type": "markdown",
      "source": [
        "O limite inferior calculado seria de -60.00 Euros. Porém, esse valor não é coerente com a realidade dos nossos dados, visto que nenhum anfitrião irá \"pagar\" para alugar seu espaço."
      ],
      "metadata": {
        "id": "O0XjevXbKiOv"
      }
    },
    {
      "cell_type": "code",
      "source": [
        "#verificando o conjunto antes da exclusão dos outliers\n",
        "fig, ax = plt.subplots(figsize=(15,3))\n",
        "df_clean.price.plot(kind='box', vert=False);\n",
        "ax.set_title('Dataset Original - price')\n",
        "plt.show()\n",
        "\n",
        "print('\\nO Dataset original possui {} entradas.'.format(df_clean.shape[0]))\n",
        "print('{} entradas acima de {:.2f}.'.format(len(df_clean[df_clean.price > sup_price]), sup_price))\n",
        "print('Representam {:.2f}% do dataset'.format(((len(df_clean[df_clean.price > sup_price]) / df_clean.shape[0]) * 100)))"
      ],
      "metadata": {
        "colab": {
          "base_uri": "https://localhost:8080/",
          "height": 296
        },
        "id": "YGS7ZHgnHZ21",
        "outputId": "05741e8b-623d-4e11-eb8f-1cc996da5efe"
      },
      "execution_count": 65,
      "outputs": [
        {
          "output_type": "display_data",
          "data": {
            "image/png": "[encoded data removed]",
            "text/plain": [
              "<Figure size 1080x216 with 1 Axes>"
            ]
          },
          "metadata": {
            "needs_background": "light"
          }
        },
        {
          "output_type": "stream",
          "name": "stdout",
          "text": [
            "\n",
            "O Dataset original possui 49634 entradas.\n",
            "4005 entradas acima de 260.00.\n",
            "Representam 8.07% do dataset\n"
          ]
        }
      ]
    },
    {
      "cell_type": "markdown",
      "source": [
        "Veja nessa *gráfico boxblot* que os outliers são apenas superiores, existem 4005 entradas nessa condição, o que corresponde a 8.07% das entradas. Eliminar \n",
        "essas entradas com `price` acima do limite superior não trará grandes prejuízos para a análise. \n",
        "\n",
        "Então para essa variável trataremos apenas os outliers superiores e os com entrada igual a zero.\n",
        "\n",
        "Verificando outras variáveis:"
      ],
      "metadata": {
        "id": "_YnvXO3FRGfC"
      }
    },
    {
      "cell_type": "code",
      "source": [
        "#identificar os outliers para a variavél minimum_nights\n",
        "q1_minimum_nights = df_clean.minimum_nights.quantile(.25)\n",
        "q3_minimum_nights = df_clean.minimum_nights.quantile(.75)\n",
        "iqr_minimum_nights = q3_minimum_nights - q1_minimum_nights\n",
        "print('IQR da variável price é: ', iqr_minimum_nights)\n",
        "\n",
        "#definindo os limites\n",
        "sup_minimum_nights = q3_minimum_nights + 1.5 * iqr_minimum_nights\n",
        "inf_minimum_nights = q1_minimum_nights - 1.5 * iqr_minimum_nights\n",
        "print('O limite superior é: ', sup_minimum_nights)\n",
        "print('O limite inferior é: ', inf_minimum_nights)"
      ],
      "metadata": {
        "colab": {
          "base_uri": "https://localhost:8080/"
        },
        "id": "uIhL-Lf6Ui2A",
        "outputId": "b6aac844-3145-476f-e095-326491ea4808"
      },
      "execution_count": 66,
      "outputs": [
        {
          "output_type": "stream",
          "name": "stdout",
          "text": [
            "IQR da variável price é:  363.0\n",
            "O limite superior é:  909.5\n",
            "O limite inferior é:  -542.5\n"
          ]
        }
      ]
    },
    {
      "cell_type": "markdown",
      "source": [
        "Também para essa variável não é preciso tratar o limite inferior, pois vimos na descrição das informações estatísticas que o menor valor de entrada é de 1 noite.\n"
      ],
      "metadata": {
        "id": "aOvnojIXU8Dx"
      }
    },
    {
      "cell_type": "code",
      "source": [
        "#verificando o conjunto antes da exclusão dos outliers\n",
        "fig, ax = plt.subplots(figsize=(15,3))\n",
        "df_clean.minimum_nights.plot(kind='box', vert=False);\n",
        "ax.set_title('Dataset Original - minimum_nights')\n",
        "plt.show()\n",
        "\n",
        "print('\\nO Dataset original possui {} entradas.'.format(df_clean.shape[0]))\n",
        "print('{} entradas acima de {:.2f}.'.format(len(df_clean[df_clean.minimum_nights > sup_minimum_nights]), sup_minimum_nights))\n",
        "print('Representam {:.2f}% do dataset'.format(((len(df_clean[df_clean.minimum_nights > sup_minimum_nights]) / df_clean.minimum_nights.shape[0])*100)))"
      ],
      "metadata": {
        "colab": {
          "base_uri": "https://localhost:8080/",
          "height": 296
        },
        "id": "Q2fM5tgsVHis",
        "outputId": "d6dcf4a6-615e-4b59-949a-b4de2b14e1f8"
      },
      "execution_count": 67,
      "outputs": [
        {
          "output_type": "display_data",
          "data": {
            "image/png": "[encoded data removed]",
            "text/plain": [
              "<Figure size 1080x216 with 1 Axes>"
            ]
          },
          "metadata": {
            "needs_background": "light"
          }
        },
        {
          "output_type": "stream",
          "name": "stdout",
          "text": [
            "\n",
            "O Dataset original possui 49634 entradas.\n",
            "11 entradas acima de 909.50.\n",
            "Representam 0.02% do dataset\n"
          ]
        }
      ]
    },
    {
      "cell_type": "markdown",
      "source": [
        "A representatividade das entradas em `minimum_nights` acima do limite superior também é muito pequena, comparada com o tamanho do dataset. A ação será de eliminar essas entradas.\n",
        "\n",
        "Porém, como citei anteriormente, o Q3 dessa variável é de 365 dias, o que faz com que nosso limite superior seja muito alto (909.5 dias, equivalente a quase 2.5 anos). Vou identificar quantas entradas existem acima de 365 dias para poder assumir esse número como um limite para essa análise. "
      ],
      "metadata": {
        "id": "Xz3BR1KkX_Ml"
      }
    },
    {
      "cell_type": "code",
      "source": [
        "#identificando entradas acima de 365 dias em minimum_nights\n",
        "len(df_clean[df_clean.minimum_nights > 365])"
      ],
      "metadata": {
        "colab": {
          "base_uri": "https://localhost:8080/"
        },
        "id": "lP8IH-aIbJF2",
        "outputId": "a1725d54-a74c-4d87-838a-5930b510fcd4"
      },
      "execution_count": 68,
      "outputs": [
        {
          "output_type": "execute_result",
          "data": {
            "text/plain": [
              "22"
            ]
          },
          "metadata": {},
          "execution_count": 68
        }
      ]
    },
    {
      "cell_type": "markdown",
      "source": [
        "Temos apenas 22 entradas acima de 365 dias. A decisão aqui é por eliminar todas as entradas acima de 365 dias, pois a proporção com nosso dataset ainda é muito pequena."
      ],
      "metadata": {
        "id": "nW3l4qI8biz7"
      }
    },
    {
      "cell_type": "code",
      "source": [
        "#criando um check point\n",
        "df_paris = df_clean.copy()\n",
        "\n",
        "#eliminando as entradas com price acima do limite superior\n",
        "df_paris.drop(df_paris[df_paris.price > sup_price].index, axis=0, inplace = True)\n",
        "\n",
        "#eliminando as entradas com price igual a zero\n",
        "df_paris.drop(df_paris[df_paris.price == 0.0].index, axis=0, inplace = True)\n",
        "\n",
        "#eliminar as entradas com minimum_nights acima do limite superior\n",
        "df_paris.drop(df_paris[df_paris.minimum_nights > 365].index, axis=0, inplace = True)"
      ],
      "metadata": {
        "id": "7IbRWvrCu2q_"
      },
      "execution_count": 69,
      "outputs": []
    },
    {
      "cell_type": "code",
      "source": [
        "#comparando antes e depois\n",
        "print(\"Antes: \\t{}\".format(df_clean.shape))\n",
        "print(\"Depois: {}\".format(df_paris.shape))\n",
        "print(\"Foram eliminadas {} entradas.\".format(df_clean.shape[0] - df_paris.shape[0]))"
      ],
      "metadata": {
        "colab": {
          "base_uri": "https://localhost:8080/"
        },
        "id": "J7hMUjd9YnQp",
        "outputId": "a4c5c67f-5d5e-4c1b-9ce3-e39c91160d19"
      },
      "execution_count": 70,
      "outputs": [
        {
          "output_type": "stream",
          "name": "stdout",
          "text": [
            "Antes: \t(49634, 16)\n",
            "Depois: (45549, 16)\n",
            "Foram eliminadas 4085 entradas.\n"
          ]
        }
      ]
    },
    {
      "cell_type": "markdown",
      "source": [
        "É importante citar que o número de entradas eliminadas não foi de 4086 ((59 entradas `price` = 0) + (4005 entradas com `price`> 260.00) + (22 entradas com `minimum_nights` > 365)), como alguém poderia esperar. Isso ocorre porque uma mesma entrada pode possuir duas ou mais características que determinamos separadamente. "
      ],
      "metadata": {
        "id": "h-O4uOoq67xf"
      }
    },
    {
      "cell_type": "code",
      "source": [
        "#verificando as distribuções após exclusão\n",
        "df_paris.hist(figsize=(20,15), grid=False);"
      ],
      "metadata": {
        "colab": {
          "base_uri": "https://localhost:8080/",
          "height": 879
        },
        "id": "tA3ynR1AqMgg",
        "outputId": "ba8a7f33-e01b-4914-e12e-da8f8a32a2a0"
      },
      "execution_count": 71,
      "outputs": [
        {
          "output_type": "display_data",
          "data": {
            "image/png": "[encoded data removed]",
            "text/plain": [
              "<Figure size 1440x1080 with 12 Axes>"
            ]
          },
          "metadata": {
            "needs_background": "light"
          }
        }
      ]
    },
    {
      "cell_type": "code",
      "source": [
        "#verificando informações estatísticas após exclusão\n",
        "df_paris.describe()"
      ],
      "metadata": {
        "colab": {
          "base_uri": "https://localhost:8080/",
          "height": 300
        },
        "id": "KL0oLaOLZkyG",
        "outputId": "7e45f93c-69d4-458a-9bba-02c1df6c5c88"
      },
      "execution_count": 72,
      "outputs": [
        {
          "output_type": "execute_result",
          "data": {
            "text/html": [
              "\n",
              "  <div id=\"df-d3548449-b979-4e2f-a4af-4d4ae4323c4a\">\n",
              "    <div class=\"colab-df-container\">\n",
              "      <div>\n",
              "<style scoped>\n",
              "    .dataframe tbody tr th:only-of-type {\n",
              "        vertical-align: middle;\n",
              "    }\n",
              "\n",
              "    .dataframe tbody tr th {\n",
              "        vertical-align: top;\n",
              "    }\n",
              "\n",
              "    .dataframe thead th {\n",
              "        text-align: right;\n",
              "    }\n",
              "</style>\n",
              "<table border=\"1\" class=\"dataframe\">\n",
              "  <thead>\n",
              "    <tr style=\"text-align: right;\">\n",
              "      <th></th>\n",
              "      <th>host_id</th>\n",
              "      <th>latitude</th>\n",
              "      <th>longitude</th>\n",
              "      <th>price</th>\n",
              "      <th>minimum_nights</th>\n",
              "      <th>number_of_reviews</th>\n",
              "      <th>reviews_per_month</th>\n",
              "      <th>calculated_host_listings_count</th>\n",
              "      <th>availability_365</th>\n",
              "      <th>number_of_reviews_ltm</th>\n",
              "    </tr>\n",
              "  </thead>\n",
              "  <tbody>\n",
              "    <tr>\n",
              "      <th>count</th>\n",
              "      <td>4.554900e+04</td>\n",
              "      <td>45549.000000</td>\n",
              "      <td>45549.000000</td>\n",
              "      <td>45549.000000</td>\n",
              "      <td>45549.000000</td>\n",
              "      <td>45549.000000</td>\n",
              "      <td>35960.000000</td>\n",
              "      <td>45549.000000</td>\n",
              "      <td>45549.000000</td>\n",
              "      <td>45549.000000</td>\n",
              "    </tr>\n",
              "    <tr>\n",
              "      <th>mean</th>\n",
              "      <td>9.404508e+07</td>\n",
              "      <td>48.864075</td>\n",
              "      <td>2.346072</td>\n",
              "      <td>96.785440</td>\n",
              "      <td>117.047948</td>\n",
              "      <td>21.446135</td>\n",
              "      <td>0.808513</td>\n",
              "      <td>11.038069</td>\n",
              "      <td>91.835123</td>\n",
              "      <td>2.801049</td>\n",
              "    </tr>\n",
              "    <tr>\n",
              "      <th>std</th>\n",
              "      <td>1.159901e+08</td>\n",
              "      <td>0.018519</td>\n",
              "      <td>0.033249</td>\n",
              "      <td>51.269505</td>\n",
              "      <td>165.701220</td>\n",
              "      <td>46.425359</td>\n",
              "      <td>1.254712</td>\n",
              "      <td>44.328319</td>\n",
              "      <td>130.152125</td>\n",
              "      <td>12.306990</td>\n",
              "    </tr>\n",
              "    <tr>\n",
              "      <th>min</th>\n",
              "      <td>2.626000e+03</td>\n",
              "      <td>48.812220</td>\n",
              "      <td>2.221440</td>\n",
              "      <td>8.000000</td>\n",
              "      <td>1.000000</td>\n",
              "      <td>0.000000</td>\n",
              "      <td>0.010000</td>\n",
              "      <td>1.000000</td>\n",
              "      <td>0.000000</td>\n",
              "      <td>0.000000</td>\n",
              "    </tr>\n",
              "    <tr>\n",
              "      <th>25%</th>\n",
              "      <td>1.299165e+07</td>\n",
              "      <td>48.850460</td>\n",
              "      <td>2.325290</td>\n",
              "      <td>60.000000</td>\n",
              "      <td>2.000000</td>\n",
              "      <td>1.000000</td>\n",
              "      <td>0.130000</td>\n",
              "      <td>1.000000</td>\n",
              "      <td>0.000000</td>\n",
              "      <td>0.000000</td>\n",
              "    </tr>\n",
              "    <tr>\n",
              "      <th>50%</th>\n",
              "      <td>3.765137e+07</td>\n",
              "      <td>48.865460</td>\n",
              "      <td>2.348960</td>\n",
              "      <td>84.000000</td>\n",
              "      <td>4.000000</td>\n",
              "      <td>5.000000</td>\n",
              "      <td>0.380000</td>\n",
              "      <td>1.000000</td>\n",
              "      <td>0.000000</td>\n",
              "      <td>0.000000</td>\n",
              "    </tr>\n",
              "    <tr>\n",
              "      <th>75%</th>\n",
              "      <td>1.354908e+08</td>\n",
              "      <td>48.879250</td>\n",
              "      <td>2.371150</td>\n",
              "      <td>120.000000</td>\n",
              "      <td>365.000000</td>\n",
              "      <td>21.000000</td>\n",
              "      <td>1.000000</td>\n",
              "      <td>1.000000</td>\n",
              "      <td>179.000000</td>\n",
              "      <td>2.000000</td>\n",
              "    </tr>\n",
              "    <tr>\n",
              "      <th>max</th>\n",
              "      <td>4.263279e+08</td>\n",
              "      <td>48.905690</td>\n",
              "      <td>2.467120</td>\n",
              "      <td>260.000000</td>\n",
              "      <td>365.000000</td>\n",
              "      <td>1711.000000</td>\n",
              "      <td>50.920000</td>\n",
              "      <td>382.000000</td>\n",
              "      <td>365.000000</td>\n",
              "      <td>1644.000000</td>\n",
              "    </tr>\n",
              "  </tbody>\n",
              "</table>\n",
              "</div>\n",
              "      <button class=\"colab-df-convert\" onclick=\"convertToInteractive('df-d3548449-b979-4e2f-a4af-4d4ae4323c4a')\"\n",
              "              title=\"Convert this dataframe to an interactive table.\"\n",
              "              style=\"display:none;\">\n",
              "        \n",
              "  <svg xmlns=\"http://www.w3.org/2000/svg\" height=\"24px\"viewBox=\"0 0 24 24\"\n",
              "       width=\"24px\">\n",
              "    <path d=\"M0 0h24v24H0V0z\" fill=\"none\"/>\n",
              "    <path d=\"M18.56 5.44l.94 2.06.94-2.06 2.06-.94-2.06-.94-.94-2.06-.94 2.06-2.06.94zm-11 1L8.5 8.5l.94-2.06 2.06-.94-2.06-.94L8.5 2.5l-.94 2.06-2.06.94zm10 10l.94 2.06.94-2.06 2.06-.94-2.06-.94-.94-2.06-.94 2.06-2.06.94z\"/><path d=\"M17.41 7.96l-1.37-1.37c-.4-.4-.92-.59-1.43-.59-.52 0-1.04.2-1.43.59L10.3 9.45l-7.72 7.72c-.78.78-.78 2.05 0 2.83L4 21.41c.39.39.9.59 1.41.59.51 0 1.02-.2 1.41-.59l7.78-7.78 2.81-2.81c.8-.78.8-2.07 0-2.86zM5.41 20L4 18.59l7.72-7.72 1.47 1.35L5.41 20z\"/>\n",
              "  </svg>\n",
              "      </button>\n",
              "      \n",
              "  <style>\n",
              "    .colab-df-container {\n",
              "      display:flex;\n",
              "      flex-wrap:wrap;\n",
              "      gap: 12px;\n",
              "    }\n",
              "\n",
              "    .colab-df-convert {\n",
              "      background-color: #E8F0FE;\n",
              "      border: none;\n",
              "      border-radius: 50%;\n",
              "      cursor: pointer;\n",
              "      display: none;\n",
              "      fill: #1967D2;\n",
              "      height: 32px;\n",
              "      padding: 0 0 0 0;\n",
              "      width: 32px;\n",
              "    }\n",
              "\n",
              "    .colab-df-convert:hover {\n",
              "      background-color: #E2EBFA;\n",
              "      box-shadow: 0px 1px 2px rgba(60, 64, 67, 0.3), 0px 1px 3px 1px rgba(60, 64, 67, 0.15);\n",
              "      fill: #174EA6;\n",
              "    }\n",
              "\n",
              "    [theme=dark] .colab-df-convert {\n",
              "      background-color: #3B4455;\n",
              "      fill: #D2E3FC;\n",
              "    }\n",
              "\n",
              "    [theme=dark] .colab-df-convert:hover {\n",
              "      background-color: #434B5C;\n",
              "      box-shadow: 0px 1px 3px 1px rgba(0, 0, 0, 0.15);\n",
              "      filter: drop-shadow(0px 1px 2px rgba(0, 0, 0, 0.3));\n",
              "      fill: #FFFFFF;\n",
              "    }\n",
              "  </style>\n",
              "\n",
              "      <script>\n",
              "        const buttonEl =\n",
              "          document.querySelector('#df-d3548449-b979-4e2f-a4af-4d4ae4323c4a button.colab-df-convert');\n",
              "        buttonEl.style.display =\n",
              "          google.colab.kernel.accessAllowed ? 'block' : 'none';\n",
              "\n",
              "        async function convertToInteractive(key) {\n",
              "          const element = document.querySelector('#df-d3548449-b979-4e2f-a4af-4d4ae4323c4a');\n",
              "          const dataTable =\n",
              "            await google.colab.kernel.invokeFunction('convertToInteractive',\n",
              "                                                     [key], {});\n",
              "          if (!dataTable) return;\n",
              "\n",
              "          const docLinkHtml = 'Like what you see? Visit the ' +\n",
              "            '<a target=\"_blank\" href=https://colab.research.google.com/notebooks/data_table.ipynb>data table notebook</a>'\n",
              "            + ' to learn more about interactive tables.';\n",
              "          element.innerHTML = '';\n",
              "          dataTable['output_type'] = 'display_data';\n",
              "          await google.colab.output.renderOutput(dataTable, element);\n",
              "          const docLink = document.createElement('div');\n",
              "          docLink.innerHTML = docLinkHtml;\n",
              "          element.appendChild(docLink);\n",
              "        }\n",
              "      </script>\n",
              "    </div>\n",
              "  </div>\n",
              "  "
            ],
            "text/plain": [
              "            host_id      latitude  ...  availability_365  number_of_reviews_ltm\n",
              "count  4.554900e+04  45549.000000  ...      45549.000000           45549.000000\n",
              "mean   9.404508e+07     48.864075  ...         91.835123               2.801049\n",
              "std    1.159901e+08      0.018519  ...        130.152125              12.306990\n",
              "min    2.626000e+03     48.812220  ...          0.000000               0.000000\n",
              "25%    1.299165e+07     48.850460  ...          0.000000               0.000000\n",
              "50%    3.765137e+07     48.865460  ...          0.000000               0.000000\n",
              "75%    1.354908e+08     48.879250  ...        179.000000               2.000000\n",
              "max    4.263279e+08     48.905690  ...        365.000000            1644.000000\n",
              "\n",
              "[8 rows x 10 columns]"
            ]
          },
          "metadata": {},
          "execution_count": 72
        }
      ]
    },
    {
      "cell_type": "markdown",
      "source": [
        "Sabendo que estou lidando com dados de uma plataforma de locação de quartos, salas, casas, apartamentos... até aqui, foram eliminadas as entradas que poderiam sugerir falsas interpretações dos dados, por não condizer com as características do negócio.\n",
        "\n",
        "Ainda permancecem alguns registros que chamam a atenção, mas podem fazer sentido. Como é o caso da variável `number_of_reviews`, com valor máximo de 1711. Isso significa que este item recebeu muito mais avaliações que a maioria dos demais. Podemos deduzir que ele foi anunciado a muito mais tempo ou foi locado por muito mais vezes."
      ],
      "metadata": {
        "id": "HD9bjGTnb3gD"
      }
    },
    {
      "cell_type": "markdown",
      "source": [
        "### **Qual a correlação existente entre as variáveis**\n",
        "\n",
        "Nessa exploração dos dados pode ser interessante compreender a correlação entre eles. Como por exemplo, buscar entender se a medida que o preço do aluguel aumenta como se comporta o número de avaliações que o imovél recebe. Ou ainda, a medida que o número mínimo de noites disponíveis diminui, se o preço da diária se altera para cima ou para baixo.\n",
        "\n"
      ],
      "metadata": {
        "id": "whIqEg63erfy"
      }
    },
    {
      "cell_type": "markdown",
      "source": [
        "Aqui vou utilizar o coeficiente de correlação de Pearson, que é um teste que mede a relação estatística entre duas variáveis contínuas. Essa correlação está em uma escala que vai de -1 até +1, onde:\n",
        "\n",
        "*   Correlação < 0: variáveis inversamente proporcionais\n",
        "*   Correlação > 0: variáveis diretamente proporcionais\n",
        "*   Correlação = 0: não há relação linear entre variáveis.\n"
      ],
      "metadata": {
        "id": "9vUAVYICyrxX"
      }
    },
    {
      "cell_type": "markdown",
      "source": [
        "> Correlação não é causalidade.\n",
        "\n",
        "É importante lembrar que a correlação entre duas variáveis não significa que uma seja causa e a outra efeito, mas sim, que elas caminham diretamente ou inversamente opostas em alguma proporção."
      ],
      "metadata": {
        "id": "XbaztS8nyq9p"
      }
    },
    {
      "cell_type": "markdown",
      "source": [
        "Vou criar uma matriz de correlação entre todos as variáveis, para ter nossas primeiras ideias sobre essa característica."
      ],
      "metadata": {
        "id": "XzbDMn7HwBPW"
      }
    },
    {
      "cell_type": "code",
      "source": [
        "#criando uma matriz de correlação\n",
        "df_paris.corr()"
      ],
      "metadata": {
        "colab": {
          "base_uri": "https://localhost:8080/",
          "height": 363
        },
        "id": "0XK0ao2isFDt",
        "outputId": "6ab2e9df-7e96-43d2-cd9f-05a29f3ecc99"
      },
      "execution_count": 73,
      "outputs": [
        {
          "output_type": "execute_result",
          "data": {
            "text/html": [
              "\n",
              "  <div id=\"df-1d4bcd8e-0b2a-405a-9bb0-e96ab5ce1592\">\n",
              "    <div class=\"colab-df-container\">\n",
              "      <div>\n",
              "<style scoped>\n",
              "    .dataframe tbody tr th:only-of-type {\n",
              "        vertical-align: middle;\n",
              "    }\n",
              "\n",
              "    .dataframe tbody tr th {\n",
              "        vertical-align: top;\n",
              "    }\n",
              "\n",
              "    .dataframe thead th {\n",
              "        text-align: right;\n",
              "    }\n",
              "</style>\n",
              "<table border=\"1\" class=\"dataframe\">\n",
              "  <thead>\n",
              "    <tr style=\"text-align: right;\">\n",
              "      <th></th>\n",
              "      <th>host_id</th>\n",
              "      <th>latitude</th>\n",
              "      <th>longitude</th>\n",
              "      <th>price</th>\n",
              "      <th>minimum_nights</th>\n",
              "      <th>number_of_reviews</th>\n",
              "      <th>reviews_per_month</th>\n",
              "      <th>calculated_host_listings_count</th>\n",
              "      <th>availability_365</th>\n",
              "      <th>number_of_reviews_ltm</th>\n",
              "    </tr>\n",
              "  </thead>\n",
              "  <tbody>\n",
              "    <tr>\n",
              "      <th>host_id</th>\n",
              "      <td>1.000000</td>\n",
              "      <td>-0.043650</td>\n",
              "      <td>-0.082389</td>\n",
              "      <td>0.142958</td>\n",
              "      <td>-0.177610</td>\n",
              "      <td>-0.109245</td>\n",
              "      <td>0.191251</td>\n",
              "      <td>0.203553</td>\n",
              "      <td>0.195410</td>\n",
              "      <td>0.086257</td>\n",
              "    </tr>\n",
              "    <tr>\n",
              "      <th>latitude</th>\n",
              "      <td>-0.043650</td>\n",
              "      <td>1.000000</td>\n",
              "      <td>0.087512</td>\n",
              "      <td>-0.056350</td>\n",
              "      <td>0.027539</td>\n",
              "      <td>-0.023221</td>\n",
              "      <td>-0.019343</td>\n",
              "      <td>-0.018991</td>\n",
              "      <td>-0.043951</td>\n",
              "      <td>-0.012909</td>\n",
              "    </tr>\n",
              "    <tr>\n",
              "      <th>longitude</th>\n",
              "      <td>-0.082389</td>\n",
              "      <td>0.087512</td>\n",
              "      <td>1.000000</td>\n",
              "      <td>-0.163014</td>\n",
              "      <td>-0.013235</td>\n",
              "      <td>-0.004137</td>\n",
              "      <td>-0.036990</td>\n",
              "      <td>-0.050476</td>\n",
              "      <td>-0.086685</td>\n",
              "      <td>-0.009101</td>\n",
              "    </tr>\n",
              "    <tr>\n",
              "      <th>price</th>\n",
              "      <td>0.142958</td>\n",
              "      <td>-0.056350</td>\n",
              "      <td>-0.163014</td>\n",
              "      <td>1.000000</td>\n",
              "      <td>-0.147856</td>\n",
              "      <td>0.051500</td>\n",
              "      <td>0.122061</td>\n",
              "      <td>0.148907</td>\n",
              "      <td>0.331256</td>\n",
              "      <td>0.077297</td>\n",
              "    </tr>\n",
              "    <tr>\n",
              "      <th>minimum_nights</th>\n",
              "      <td>-0.177610</td>\n",
              "      <td>0.027539</td>\n",
              "      <td>-0.013235</td>\n",
              "      <td>-0.147856</td>\n",
              "      <td>1.000000</td>\n",
              "      <td>-0.206805</td>\n",
              "      <td>-0.275886</td>\n",
              "      <td>-0.122722</td>\n",
              "      <td>-0.241223</td>\n",
              "      <td>-0.143521</td>\n",
              "    </tr>\n",
              "    <tr>\n",
              "      <th>number_of_reviews</th>\n",
              "      <td>-0.109245</td>\n",
              "      <td>-0.023221</td>\n",
              "      <td>-0.004137</td>\n",
              "      <td>0.051500</td>\n",
              "      <td>-0.206805</td>\n",
              "      <td>1.000000</td>\n",
              "      <td>0.601763</td>\n",
              "      <td>-0.018855</td>\n",
              "      <td>0.178829</td>\n",
              "      <td>0.481224</td>\n",
              "    </tr>\n",
              "    <tr>\n",
              "      <th>reviews_per_month</th>\n",
              "      <td>0.191251</td>\n",
              "      <td>-0.019343</td>\n",
              "      <td>-0.036990</td>\n",
              "      <td>0.122061</td>\n",
              "      <td>-0.275886</td>\n",
              "      <td>0.601763</td>\n",
              "      <td>1.000000</td>\n",
              "      <td>0.056446</td>\n",
              "      <td>0.255433</td>\n",
              "      <td>0.650969</td>\n",
              "    </tr>\n",
              "    <tr>\n",
              "      <th>calculated_host_listings_count</th>\n",
              "      <td>0.203553</td>\n",
              "      <td>-0.018991</td>\n",
              "      <td>-0.050476</td>\n",
              "      <td>0.148907</td>\n",
              "      <td>-0.122722</td>\n",
              "      <td>-0.018855</td>\n",
              "      <td>0.056446</td>\n",
              "      <td>1.000000</td>\n",
              "      <td>0.131720</td>\n",
              "      <td>0.032189</td>\n",
              "    </tr>\n",
              "    <tr>\n",
              "      <th>availability_365</th>\n",
              "      <td>0.195410</td>\n",
              "      <td>-0.043951</td>\n",
              "      <td>-0.086685</td>\n",
              "      <td>0.331256</td>\n",
              "      <td>-0.241223</td>\n",
              "      <td>0.178829</td>\n",
              "      <td>0.255433</td>\n",
              "      <td>0.131720</td>\n",
              "      <td>1.000000</td>\n",
              "      <td>0.144528</td>\n",
              "    </tr>\n",
              "    <tr>\n",
              "      <th>number_of_reviews_ltm</th>\n",
              "      <td>0.086257</td>\n",
              "      <td>-0.012909</td>\n",
              "      <td>-0.009101</td>\n",
              "      <td>0.077297</td>\n",
              "      <td>-0.143521</td>\n",
              "      <td>0.481224</td>\n",
              "      <td>0.650969</td>\n",
              "      <td>0.032189</td>\n",
              "      <td>0.144528</td>\n",
              "      <td>1.000000</td>\n",
              "    </tr>\n",
              "  </tbody>\n",
              "</table>\n",
              "</div>\n",
              "      <button class=\"colab-df-convert\" onclick=\"convertToInteractive('df-1d4bcd8e-0b2a-405a-9bb0-e96ab5ce1592')\"\n",
              "              title=\"Convert this dataframe to an interactive table.\"\n",
              "              style=\"display:none;\">\n",
              "        \n",
              "  <svg xmlns=\"http://www.w3.org/2000/svg\" height=\"24px\"viewBox=\"0 0 24 24\"\n",
              "       width=\"24px\">\n",
              "    <path d=\"M0 0h24v24H0V0z\" fill=\"none\"/>\n",
              "    <path d=\"M18.56 5.44l.94 2.06.94-2.06 2.06-.94-2.06-.94-.94-2.06-.94 2.06-2.06.94zm-11 1L8.5 8.5l.94-2.06 2.06-.94-2.06-.94L8.5 2.5l-.94 2.06-2.06.94zm10 10l.94 2.06.94-2.06 2.06-.94-2.06-.94-.94-2.06-.94 2.06-2.06.94z\"/><path d=\"M17.41 7.96l-1.37-1.37c-.4-.4-.92-.59-1.43-.59-.52 0-1.04.2-1.43.59L10.3 9.45l-7.72 7.72c-.78.78-.78 2.05 0 2.83L4 21.41c.39.39.9.59 1.41.59.51 0 1.02-.2 1.41-.59l7.78-7.78 2.81-2.81c.8-.78.8-2.07 0-2.86zM5.41 20L4 18.59l7.72-7.72 1.47 1.35L5.41 20z\"/>\n",
              "  </svg>\n",
              "      </button>\n",
              "      \n",
              "  <style>\n",
              "    .colab-df-container {\n",
              "      display:flex;\n",
              "      flex-wrap:wrap;\n",
              "      gap: 12px;\n",
              "    }\n",
              "\n",
              "    .colab-df-convert {\n",
              "      background-color: #E8F0FE;\n",
              "      border: none;\n",
              "      border-radius: 50%;\n",
              "      cursor: pointer;\n",
              "      display: none;\n",
              "      fill: #1967D2;\n",
              "      height: 32px;\n",
              "      padding: 0 0 0 0;\n",
              "      width: 32px;\n",
              "    }\n",
              "\n",
              "    .colab-df-convert:hover {\n",
              "      background-color: #E2EBFA;\n",
              "      box-shadow: 0px 1px 2px rgba(60, 64, 67, 0.3), 0px 1px 3px 1px rgba(60, 64, 67, 0.15);\n",
              "      fill: #174EA6;\n",
              "    }\n",
              "\n",
              "    [theme=dark] .colab-df-convert {\n",
              "      background-color: #3B4455;\n",
              "      fill: #D2E3FC;\n",
              "    }\n",
              "\n",
              "    [theme=dark] .colab-df-convert:hover {\n",
              "      background-color: #434B5C;\n",
              "      box-shadow: 0px 1px 3px 1px rgba(0, 0, 0, 0.15);\n",
              "      filter: drop-shadow(0px 1px 2px rgba(0, 0, 0, 0.3));\n",
              "      fill: #FFFFFF;\n",
              "    }\n",
              "  </style>\n",
              "\n",
              "      <script>\n",
              "        const buttonEl =\n",
              "          document.querySelector('#df-1d4bcd8e-0b2a-405a-9bb0-e96ab5ce1592 button.colab-df-convert');\n",
              "        buttonEl.style.display =\n",
              "          google.colab.kernel.accessAllowed ? 'block' : 'none';\n",
              "\n",
              "        async function convertToInteractive(key) {\n",
              "          const element = document.querySelector('#df-1d4bcd8e-0b2a-405a-9bb0-e96ab5ce1592');\n",
              "          const dataTable =\n",
              "            await google.colab.kernel.invokeFunction('convertToInteractive',\n",
              "                                                     [key], {});\n",
              "          if (!dataTable) return;\n",
              "\n",
              "          const docLinkHtml = 'Like what you see? Visit the ' +\n",
              "            '<a target=\"_blank\" href=https://colab.research.google.com/notebooks/data_table.ipynb>data table notebook</a>'\n",
              "            + ' to learn more about interactive tables.';\n",
              "          element.innerHTML = '';\n",
              "          dataTable['output_type'] = 'display_data';\n",
              "          await google.colab.output.renderOutput(dataTable, element);\n",
              "          const docLink = document.createElement('div');\n",
              "          docLink.innerHTML = docLinkHtml;\n",
              "          element.appendChild(docLink);\n",
              "        }\n",
              "      </script>\n",
              "    </div>\n",
              "  </div>\n",
              "  "
            ],
            "text/plain": [
              "                                 host_id  ...  number_of_reviews_ltm\n",
              "host_id                         1.000000  ...               0.086257\n",
              "latitude                       -0.043650  ...              -0.012909\n",
              "longitude                      -0.082389  ...              -0.009101\n",
              "price                           0.142958  ...               0.077297\n",
              "minimum_nights                 -0.177610  ...              -0.143521\n",
              "number_of_reviews              -0.109245  ...               0.481224\n",
              "reviews_per_month               0.191251  ...               0.650969\n",
              "calculated_host_listings_count  0.203553  ...               0.032189\n",
              "availability_365                0.195410  ...               0.144528\n",
              "number_of_reviews_ltm           0.086257  ...               1.000000\n",
              "\n",
              "[10 rows x 10 columns]"
            ]
          },
          "metadata": {},
          "execution_count": 73
        }
      ]
    },
    {
      "cell_type": "markdown",
      "source": [
        "Mesmo sem avaliar a matriz de correlação, é possível dizer que variáveis como `host_id`, `latidude`e `longitude` não teriam nenhuma correlação com as demais, porque elas são apenas informativos, que identificam cada imóvel ou item anunciado e seu anfitrião.\n",
        "\n",
        "Portanto, para facilitar a interpretação dos dados, vou tomar algumas ações:\n",
        "\n",
        "*   Plotar um *heatmap* com a correlação entre as variáveis\n",
        "*   Eliminar pontualmente desse gráfico as variáveis que não desejo analisar\n",
        "*   Plotar apenas a diagonal inferior (espelho da diagonal superior)\n",
        "\n",
        "\n",
        "\n",
        "\n"
      ],
      "metadata": {
        "id": "xzoZRx0FtCR7"
      }
    },
    {
      "cell_type": "code",
      "source": [
        "#criar novo DataFrame para análise da correlação com apenas as variáveis escolhidas\n",
        "df_new = df_paris[['price', 'minimum_nights', 'number_of_reviews', 'reviews_per_month', 'availability_365', 'number_of_reviews_ltm']].copy()"
      ],
      "metadata": {
        "id": "Tc0FvvGJxi5d"
      },
      "execution_count": 74,
      "outputs": []
    },
    {
      "cell_type": "code",
      "source": [
        "#criar máscara para exibir diagonal inferior\n",
        "mask_inf = np.triu(df_new.corr())\n",
        "\n",
        "#plotar um gráifco heatmap\n",
        "fig, ax = plt.subplots(figsize=(15,7))  \n",
        "sns.heatmap(df_new.corr(), annot=True, vmin=-1, vmax=1, cmap='coolwarm', mask = mask_inf);"
      ],
      "metadata": {
        "id": "GQ3hJI7ftLYj",
        "colab": {
          "base_uri": "https://localhost:8080/",
          "height": 433
        },
        "outputId": "ed52f5a7-6837-4a95-a1de-3d5d24a4aa5d"
      },
      "execution_count": 75,
      "outputs": [
        {
          "output_type": "display_data",
          "data": {
            "image/png": "[encoded data removed]",
            "text/plain": [
              "<Figure size 1080x504 with 2 Axes>"
            ]
          },
          "metadata": {
            "needs_background": "light"
          }
        }
      ]
    },
    {
      "cell_type": "markdown",
      "source": [
        "Observando o *heatmap* é possível ver que as 3 maiores correlações positivas são variáveis análogas.\n",
        "\n",
        "1.   Correlação **0.6** entre `reviews_per_month` e `number_of_reviews`.\n",
        "2.   Correlação **0.65** entre `number_of_reviews_ltm` e `reviews_per_month`\n",
        "3.   Correlação **0.48** entre `number_of_reviews_ltm` e `number_of_reviews`\n",
        "\n"
      ],
      "metadata": {
        "id": "_jxI_6wE1UFW"
      }
    },
    {
      "cell_type": "markdown",
      "source": [
        "Apresenta também algumas outras pequenas correlações\n",
        "\n",
        "*   Correlação **0.33** entre `availability_365` e `price`\n",
        "\n",
        "Ou seja, a medida que a dispobilidade do item para locação no futuro aumenta, o preço também é maior. Uma dedução é que imovéis mais caros tendem a ser menos alugados, e por isso ficam mais disponíveis."
      ],
      "metadata": {
        "id": "4CdrIXcu4CRO"
      }
    },
    {
      "cell_type": "markdown",
      "source": [
        "*   Correlação **-0.28** entre `reviews_per_month` e `minimum_nights`\n",
        "\n",
        "Essa correlação, apesar de pequena, também pode fazer sentido, uma vez que se o item é disponibilizado para ser alugado por mais noites, ele será alugado menos vezes dentro do mês, e por isso, o número de usuários será menor para fazer a avaliação.\n",
        "\n",
        "Vou dar um exemplo:\n",
        "\n",
        "Um item com o `minimum_nights` de 5 noites, em um mês de 30 dias, pode ser alugado 6 vezes. Logo, poderá receber naquele mês 6 avaliações.\n",
        "\n",
        "Já um item com o `minimum_nights` de 1 noite, em um mesmo mês de 30 dias, pode ser alugado 30 vezes, por 30 usuários diferentes. Então, poderá receber até 30 avaliações no mesmo período do acima.\n",
        "\n",
        "Então, a medida que o `minimum_nights` aumenta o número de avaliações tende a diminuir."
      ],
      "metadata": {
        "id": "eR9u3zRE4D04"
      }
    },
    {
      "cell_type": "markdown",
      "source": [
        "### **Qual a média dos preços de aluguel em Paris?**\n",
        "Quando iniciei a análise, os dados brutos possuiam 49634 entradas. Agora, após tratar outliers, valores ausentes e zerados, temos um total de 45549 entradas que correspondem a 91.77%."
      ],
      "metadata": {
        "id": "PWM3dqCYdLFX"
      }
    },
    {
      "cell_type": "markdown",
      "source": [
        "Com os dados mais limpos, podemos calcular melhor alguns índices das variáveis, como por exemplo, o **custo médio do alguel em Paris**."
      ],
      "metadata": {
        "id": "X5XejkiI8r5i"
      }
    },
    {
      "cell_type": "code",
      "source": [
        "#calcular a média dos preços de aluguel\n",
        "df_paris.price.mean()"
      ],
      "metadata": {
        "colab": {
          "base_uri": "https://localhost:8080/"
        },
        "id": "aSSzRThZ81KA",
        "outputId": "b02f690d-52fc-4f32-a195-d5e9c43d9739"
      },
      "execution_count": 76,
      "outputs": [
        {
          "output_type": "execute_result",
          "data": {
            "text/plain": [
              "96.78543985597928"
            ]
          },
          "metadata": {},
          "execution_count": 76
        }
      ]
    },
    {
      "cell_type": "markdown",
      "source": [
        "O preço médio do aluguel na cidade de Paris é de 96.79 Euros. \n",
        "\n",
        "Para efeito didático, vou comparar essa informação com o mesmo cálculo sobre os dados brutos."
      ],
      "metadata": {
        "id": "NnYCyKX589pB"
      }
    },
    {
      "cell_type": "code",
      "source": [
        "#calcular a médida dos preços de aluguel\n",
        "print(\"Antes do tratamento dos dados, a média do aluguel era de {:.2f} Euros.\".format(df.price.mean()))\n",
        "print(\"Depois do tratamento dos dados, a média do aluguel é de {:.2f} Euros.\".format(df_paris.price.mean()))"
      ],
      "metadata": {
        "colab": {
          "base_uri": "https://localhost:8080/"
        },
        "id": "-ePlyGKj5vwH",
        "outputId": "53ecfe5d-2c36-4d41-83b6-457170b7b40f"
      },
      "execution_count": 77,
      "outputs": [
        {
          "output_type": "stream",
          "name": "stdout",
          "text": [
            "Antes do tratamento dos dados, a média do aluguel era de 130.20 Euros.\n",
            "Depois do tratamento dos dados, a média do aluguel é de 96.79 Euros.\n"
          ]
        }
      ]
    },
    {
      "cell_type": "markdown",
      "source": [
        "Aqui, é notável que o tratamento de dados podem influenciar diretamente qualquer análise e tomada de decisão.\n",
        "\n",
        "Perceba que eliminar 8,23% dos dados, fez o aluguel reduzir 25.66%."
      ],
      "metadata": {
        "id": "sWBw5_yueCbz"
      }
    },
    {
      "cell_type": "markdown",
      "source": [
        "Imagine que algum imposto seja cobrado sobre o valor médio dos aluguéis, ou, que alguém esteja fazendo um orçamento para uma viajem. Qualquer decisão feita em cima dos dados brutos ou após eles serem tratados terá resultados diferentes.\n"
      ],
      "metadata": {
        "id": "Enp7dFnM99jt"
      }
    },
    {
      "cell_type": "markdown",
      "source": [
        "### **Qual o tipo de imóvel mais alugado no Airbnb?**\n",
        "\n",
        "Uma das variáveis que tenho a disposição para analisar esse ponto é `room_type`. Tomarei como um príncipio que quanto mais avaliações o item possui, mais vezes ele foi alugado. Para isso, vou analisar a variável `number_of_reviews`."
      ],
      "metadata": {
        "id": "uLzkwUb--cFm"
      }
    },
    {
      "cell_type": "markdown",
      "source": [
        "Primeiro vamos conhecer quantos tipos de imóveis diferentes são anunciados e quantos anuncios existem para cada um deles:"
      ],
      "metadata": {
        "id": "hQ0V4B3PAjsX"
      }
    },
    {
      "cell_type": "code",
      "source": [
        "#identificar os tipos de imoveis anunciados\n",
        "df_paris.room_type.value_counts()"
      ],
      "metadata": {
        "colab": {
          "base_uri": "https://localhost:8080/"
        },
        "id": "OD6i81sIQ4SR",
        "outputId": "291cf186-7a4c-4552-d2d8-2a7f5de56db2"
      },
      "execution_count": 78,
      "outputs": [
        {
          "output_type": "execute_result",
          "data": {
            "text/plain": [
              "Entire home/apt    37796\n",
              "Private room        6691\n",
              "Hotel room           736\n",
              "Shared room          326\n",
              "Name: room_type, dtype: int64"
            ]
          },
          "metadata": {},
          "execution_count": 78
        }
      ]
    },
    {
      "cell_type": "markdown",
      "source": [
        "Agora que já é conhecido os tipos de imóveis presentes na variável  `room_type`, vou calcular quantas avaliações cada tipo recebeu."
      ],
      "metadata": {
        "id": "IXL9eQ4OXpY0"
      }
    },
    {
      "cell_type": "code",
      "source": [
        "#criar um DataFrame para visualizar somatório de avaliações por tipo de imóvel\n",
        "df_paris.groupby(['room_type']).number_of_reviews.sum().sort_values(ascending=False)"
      ],
      "metadata": {
        "colab": {
          "base_uri": "https://localhost:8080/"
        },
        "id": "dR1EXJnXcxqb",
        "outputId": "09098a30-a857-4d27-84ff-fa9c1cc4c530"
      },
      "execution_count": 79,
      "outputs": [
        {
          "output_type": "execute_result",
          "data": {
            "text/plain": [
              "room_type\n",
              "Entire home/apt    770839\n",
              "Private room       170388\n",
              "Hotel room          28244\n",
              "Shared room          7379\n",
              "Name: number_of_reviews, dtype: int64"
            ]
          },
          "metadata": {},
          "execution_count": 79
        }
      ]
    },
    {
      "cell_type": "markdown",
      "source": [
        "É pertinente notar que o imóvel *Entire home/apt* é o tipo mais anunciado e também é o tipo que mais recebeu avaliações.\n",
        "\n",
        "Aqui provavelmente há uma causalidade entre essas duas características para todos os tipos, já que o número de avaliações aumenta ou diminui conforme o quantidade de itens anunciados para o tipo de imóvel."
      ],
      "metadata": {
        "id": "G47OeMC8X9M8"
      }
    },
    {
      "cell_type": "markdown",
      "source": [
        "### **Qual a localidade mais cara do dataset?**\n",
        "\n",
        "Bom, imaginemos que alguém pretende viajar para Paris, está fazendo uma análise com esses mesmos dados, e está procurando meios de economizar nos seus planos. Essa pessoa vai querer saber qual bairro é mais caro ou mais barato ficar durante esse tempo. \n",
        "\n",
        "Vou criar um ranking da média do preço de aluguel por bairros para termos essa visão."
      ],
      "metadata": {
        "id": "yRd2V656arX8"
      }
    },
    {
      "cell_type": "code",
      "source": [
        "#verificar bairro mais caro\n",
        "df_paris.groupby(['neighbourhood']).price.mean().sort_values(ascending=False)"
      ],
      "metadata": {
        "colab": {
          "base_uri": "https://localhost:8080/"
        },
        "id": "sc09tKR2bRDE",
        "outputId": "b3de0ab1-2149-47ed-a80c-4a94ea93bc11"
      },
      "execution_count": 80,
      "outputs": [
        {
          "output_type": "execute_result",
          "data": {
            "text/plain": [
              "neighbourhood\n",
              "Louvre                 129.544725\n",
              "Élysée                 128.733396\n",
              "Hôtel-de-Ville         124.870555\n",
              "Luxembourg             122.562055\n",
              "Bourse                 120.065684\n",
              "Temple                 119.616123\n",
              "Palais-Bourbon         119.409170\n",
              "Panthéon               112.721576\n",
              "Passy                  111.932861\n",
              "Opéra                  109.556678\n",
              "Vaugirard               96.580868\n",
              "Entrepôt                94.390186\n",
              "Batignolles-Monceau     93.210421\n",
              "Observatoire            88.258263\n",
              "Popincourt              88.235747\n",
              "Reuilly                 85.274669\n",
              "Buttes-Montmartre       81.811350\n",
              "Gobelins                80.415105\n",
              "Buttes-Chaumont         73.085597\n",
              "Ménilmontant            72.544979\n",
              "Name: price, dtype: float64"
            ]
          },
          "metadata": {},
          "execution_count": 80
        }
      ]
    },
    {
      "cell_type": "markdown",
      "source": [
        "Bom, agora sabemos que o bairro mais caro de Paris é o Louvre com uma média de aluguel de 129.54 Euros, e o mais barato é o Ménilmontant com a média de alguel de 72.54 Euros.\n",
        "\n",
        "Mas, qual deles possui dos bairros possui uma oferta maior de acomodações?"
      ],
      "metadata": {
        "id": "mMubKG9aeBGc"
      }
    },
    {
      "cell_type": "code",
      "source": [
        "#verificar itens anunciados por bairro\n",
        "df_paris.neighbourhood.value_counts().sort_values(ascending=False)"
      ],
      "metadata": {
        "colab": {
          "base_uri": "https://localhost:8080/"
        },
        "id": "zjK2oOtzZxyi",
        "outputId": "2d93996a-ba87-4db5-9ed1-74ae60c76f18"
      },
      "execution_count": 89,
      "outputs": [
        {
          "output_type": "execute_result",
          "data": {
            "text/plain": [
              "Buttes-Montmartre      5163\n",
              "Popincourt             4420\n",
              "Vaugirard              3481\n",
              "Entrepôt               3383\n",
              "Batignolles-Monceau    2994\n",
              "Buttes-Chaumont        2687\n",
              "Ménilmontant           2679\n",
              "Opéra                  2276\n",
              "Passy                  2115\n",
              "Temple                 2084\n",
              "Reuilly                1966\n",
              "Observatoire           1785\n",
              "Gobelins               1708\n",
              "Panthéon               1548\n",
              "Bourse                 1492\n",
              "Hôtel-de-Ville         1406\n",
              "Luxembourg             1265\n",
              "Palais-Bourbon         1156\n",
              "Élysée                 1069\n",
              "Louvre                  872\n",
              "Name: neighbourhood, dtype: int64"
            ]
          },
          "metadata": {},
          "execution_count": 89
        }
      ]
    },
    {
      "cell_type": "markdown",
      "source": [
        "Veja que o Louvre é o bairro com as acomodações mais caras e também é o que menos tem opções. Talvez ai se encaixe a regra da oferta e demanda, que é a relação inversa entre o preço e a disponibilidade.\n",
        "\n",
        "Ainda analisando essa informação, o bairro com as acomodações mais baratas, Ménilmontant, está na posição 8 do ranking, com um pouco mais da metade do número de acomodações que encontradas no bairro em 1º lugar."
      ],
      "metadata": {
        "id": "l5nlZzjnaMDm"
      }
    },
    {
      "cell_type": "markdown",
      "source": [
        "### **Qual é a média do mínimo de noites para aluguel?**\n",
        "\n",
        "Quanto algum anfitrião anuncia seu imóvel para ser encontrado no Airbnb ele indica o mínimo de noites que o item está disponível para ser alugado.\n",
        "\n",
        "Com os dados que temos é possível analisar quantas noites em média é exigido."
      ],
      "metadata": {
        "id": "gFZcfPp1pwI7"
      }
    },
    {
      "cell_type": "code",
      "source": [
        "#minimo de noites para alguel\n",
        "df_paris.minimum_nights.mean()"
      ],
      "metadata": {
        "colab": {
          "base_uri": "https://localhost:8080/"
        },
        "id": "lrcBBpFBqO9f",
        "outputId": "e923c8c0-8ff8-4020-f41b-ddd52e40e135"
      },
      "execution_count": 82,
      "outputs": [
        {
          "output_type": "execute_result",
          "data": {
            "text/plain": [
              "117.04794836330106"
            ]
          },
          "metadata": {},
          "execution_count": 82
        }
      ]
    },
    {
      "cell_type": "markdown",
      "source": [
        "Bom, em média os imóveis são disponibilizados por 117 noites, ou quase 4 meses."
      ],
      "metadata": {
        "id": "6GFkeDwYxMmT"
      }
    },
    {
      "cell_type": "markdown",
      "source": [
        "Mas, esse tempo não é muito extenso?\n",
        "\n",
        "Não são muitas noites para quem usa um aplicativo de aluguel que para buscar hospedagem em viagens de lazer ou a trabalho?"
      ],
      "metadata": {
        "id": "AYOYWARux8fq"
      }
    },
    {
      "cell_type": "markdown",
      "source": [
        "Algumas seções atrás, após tratar os *outliers* e plotar histogramas para as variávies, vimos que a distribuição da variável `minimum_nights` chama a atenção pelo número de imóveis com 365 dias (1 ano) mínimo de aluguel.\n",
        "\n",
        "Vou plotar o histograma aqui novamente para analisar esse comportamento."
      ],
      "metadata": {
        "id": "mrrgeJtPye5L"
      }
    },
    {
      "cell_type": "code",
      "source": [
        "#plotando um histograma para minimum_nights\n",
        "fig, ax = plt.subplots(figsize=(15,7))  \n",
        "\n",
        "df_paris.minimum_nights.hist();"
      ],
      "metadata": {
        "colab": {
          "base_uri": "https://localhost:8080/",
          "height": 428
        },
        "id": "D1dnYLCXy70w",
        "outputId": "3ec2be06-117d-4a66-bd93-e97b0fadf372"
      },
      "execution_count": 83,
      "outputs": [
        {
          "output_type": "display_data",
          "data": {
            "image/png": "[encoded data removed]",
            "text/plain": [
              "<Figure size 1080x504 with 1 Axes>"
            ]
          },
          "metadata": {
            "needs_background": "light"
          }
        }
      ]
    },
    {
      "cell_type": "markdown",
      "source": [
        "Veja que temos um número grande de imóveis que exigem o mínimo de noites próximo de 350 ou mais.\n",
        "\n",
        "Para ajudar a compreender melhor, vou calcular as informações estatísticas dessa variável."
      ],
      "metadata": {
        "id": "WNQ2UmlyzYMn"
      }
    },
    {
      "cell_type": "code",
      "source": [
        "#calculando as informações estatísticas para minimum_nights\n",
        "df_paris.minimum_nights.describe()"
      ],
      "metadata": {
        "colab": {
          "base_uri": "https://localhost:8080/"
        },
        "id": "GS7Np3601mIR",
        "outputId": "5f7d78f4-b54b-4c79-e5e4-791d6fa75155"
      },
      "execution_count": 84,
      "outputs": [
        {
          "output_type": "execute_result",
          "data": {
            "text/plain": [
              "count    45549.000000\n",
              "mean       117.047948\n",
              "std        165.701220\n",
              "min          1.000000\n",
              "25%          2.000000\n",
              "50%          4.000000\n",
              "75%        365.000000\n",
              "max        365.000000\n",
              "Name: minimum_nights, dtype: float64"
            ]
          },
          "metadata": {},
          "execution_count": 84
        }
      ]
    },
    {
      "cell_type": "markdown",
      "source": [
        "Com essas informações, confirmamos o que o histograma já havia nos indicado. Veja que temos um desvio padrão muito alto. Isso indica, que os valores dessa variável estão muito dispersos.\n",
        "\n",
        "Outro ponto relevante é que o intervalo entre Q2 (mediana ou quartil 50%) e o Q3 (quartil 75%) é muito grande, isso sugere que exista um número grande de itens nesse intervalo."
      ],
      "metadata": {
        "id": "FgMAlJLg2X_L"
      }
    },
    {
      "cell_type": "code",
      "source": [
        "#relembrando tamanho do nosso dataset\n",
        "df_paris.shape"
      ],
      "metadata": {
        "colab": {
          "base_uri": "https://localhost:8080/"
        },
        "id": "9McYMJ7g31a4",
        "outputId": "2c50fe36-60b4-4c6e-a52a-ca5496dc1d66"
      },
      "execution_count": 85,
      "outputs": [
        {
          "output_type": "execute_result",
          "data": {
            "text/plain": [
              "(45549, 16)"
            ]
          },
          "metadata": {},
          "execution_count": 85
        }
      ]
    },
    {
      "cell_type": "code",
      "source": [
        "#calculando percentual de imóveis com mínimo de noites 365\n",
        "print('Imóveis disponíveis por mínimo 365 noites: {}'.format(df_paris.minimum_nights.value_counts()[365]))\n",
        "print('Que corresponde a {:.2f}% dos imóveis.'.format((df_paris.minimum_nights.value_counts()[365] / df_paris.shape[0]) *100))"
      ],
      "metadata": {
        "colab": {
          "base_uri": "https://localhost:8080/"
        },
        "id": "8brSRl8Q7rN9",
        "outputId": "6e5d0be0-f8de-45e8-959a-d7f2b119d769"
      },
      "execution_count": 86,
      "outputs": [
        {
          "output_type": "stream",
          "name": "stdout",
          "text": [
            "Imóveis disponíveis por mínimo 365 noites: 13992\n",
            "Que corresponde a 30.72% dos imóveis.\n"
          ]
        }
      ]
    },
    {
      "cell_type": "markdown",
      "source": [
        "Aqui constatamos que, por algum motivo, existem um grande número de itens para alugel em Paris com período mínimo de 1 ano. Isso pode sugerir que a plataforma é muito utilizada por anfitriões para negociar o aluguel com residentes de Paris."
      ],
      "metadata": {
        "id": "yjyFeuqY9Jnu"
      }
    },
    {
      "cell_type": "code",
      "source": [
        "#calcular a média do mínimo de noites abaixo de 365\n",
        "df_paris.minimum_nights[df_paris.minimum_nights < 365].mean()"
      ],
      "metadata": {
        "colab": {
          "base_uri": "https://localhost:8080/"
        },
        "id": "Q5jvkqnT_iqQ",
        "outputId": "5678b49a-1b0b-4222-d9c9-42024cc9a279"
      },
      "execution_count": 87,
      "outputs": [
        {
          "output_type": "execute_result",
          "data": {
            "text/plain": [
              "7.108945717273505"
            ]
          },
          "metadata": {},
          "execution_count": 87
        }
      ]
    },
    {
      "cell_type": "markdown",
      "source": [
        "Se desconsiderarmos essa parcela de 30.72%, dos imóveis com locação por 1 ano , da nossa observação, temos que em média os imóveis são disponibilizados por 7.11 noites."
      ],
      "metadata": {
        "id": "lRL4HxqgAMyM"
      }
    },
    {
      "cell_type": "markdown",
      "source": [
        "## Conclusões\n",
        "\n",
        "Ao longo desse estudo deixei claro a importância de conhecer bem os dados, pois eles influenciam diretamente as decisões que podem ser tomadas a partir deles.\n",
        "\n",
        "Essa relação direta dos dados e resultdos é sensível, o que torna necessário investir tempo na exploração e validação de hipóteses."
      ],
      "metadata": {
        "id": "A8AIKq-3A3eP"
      }
    },
    {
      "cell_type": "markdown",
      "source": [
        "Foi possível entender um pouco mais sobre os imóveis existentes no Airbnb em Paris, com aluguéis que variam entre 72 Euros, no bairro de Ménilmontant, até 130 Euros, no bairro do Louvre.\n",
        "\n",
        "Vimos que a plataforma é muito utilizada para locação de longo período (1 ano), onde cerca de 30% dos imóveis são disponibilizados assim. Os outros 70% ficam disponíveis em média por 7 noites.\n",
        "\n",
        "A preferência dos usuários é por locar imóveis completos (*Entire home/apt*), e não apenas os quartos, o que acompanha o fato de que esse tipo é o mais anunciado. Em contrapartida, os quartos compartilhados (*Shared room*) são os menos anunciados e também os menos alugados.\n",
        "\n",
        "Esse projeto foi exploratório e não visou responder nenhuma questão específica, seja um problema real de uma empresa, de um estudo científico ou alguma outra abordagem. Seria possível examinar outras características caso fosse necessário, mais deixo isto para outro fórum.\n",
        "\n",
        ">Ao conhecer esse estudo, te despertou interesse em conhecer Paris?\n"
      ],
      "metadata": {
        "id": "Aq90QJQRJ5YD"
      }
    },
    {
      "cell_type": "code",
      "source": [
        ""
      ],
      "metadata": {
        "id": "PZ1Vy91IMjdT"
      },
      "execution_count": 87,
      "outputs": []
    }
  ]
}